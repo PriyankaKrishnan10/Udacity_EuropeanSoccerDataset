{
 "cells": [
  {
   "cell_type": "markdown",
   "metadata": {},
   "source": [
    "# Project: Investigating European Soccer Dataset \n",
    "\n",
    "## Table of Contents\n",
    "<ul>\n",
    "<li><a href=\"#intro\">Introduction</a></li>\n",
    "<li><a href=\"#wrangling\">Data Wrangling</a></li>\n",
    "<li><a href=\"#eda\">Exploratory Data Analysis</a></li>\n",
    "<li><a href=\"#conclusions\">Conclusions</a></li>\n",
    "</ul>"
   ]
  },
  {
   "cell_type": "markdown",
   "metadata": {},
   "source": [
    "<a id='intro'></a>\n",
    "## Introduction\n",
    "\n",
    "> The European Soccer Dataset is sourced from Kaggle. The data is stored in SQLLite database. It has 7 tables containing data pertaining to 11 european countries with 25k+ matches and 10k+ players.\n",
    "                                                                                                                           \n",
    ">After exploring the data, we are going to answer the following questions:                                                 \n",
    "  >> a. Does home teams have an advantage over away teams? And which teams have scored max/min home and away goals?         \n",
    "  >> b. Which teams have changed its performance most over time and which teams have changed its performance least over time?                                                                                                                      \n",
    "  >> c. Which players has the most number of penalties?                                                                             "
   ]
  },
  {
   "cell_type": "code",
   "execution_count": 57,
   "metadata": {},
   "outputs": [],
   "source": [
    "# Set up import statements for all of the packages that I \n",
    "# plan to use.\n",
    "import pandas as pd\n",
    "import numpy as np\n",
    "import sqlite3\n",
    "import matplotlib.pyplot as plt\n",
    "import seaborn as sns\n",
    "%matplotlib inline"
   ]
  },
  {
   "cell_type": "markdown",
   "metadata": {},
   "source": [
    "<a id='wrangling'></a>\n",
    "## Data Wrangling\n",
    "\n",
    "\n",
    "### General Properties"
   ]
  },
  {
   "cell_type": "code",
   "execution_count": 58,
   "metadata": {},
   "outputs": [
    {
     "data": {
      "text/html": [
       "<div>\n",
       "<style scoped>\n",
       "    .dataframe tbody tr th:only-of-type {\n",
       "        vertical-align: middle;\n",
       "    }\n",
       "\n",
       "    .dataframe tbody tr th {\n",
       "        vertical-align: top;\n",
       "    }\n",
       "\n",
       "    .dataframe thead th {\n",
       "        text-align: right;\n",
       "    }\n",
       "</style>\n",
       "<table border=\"1\" class=\"dataframe\">\n",
       "  <thead>\n",
       "    <tr style=\"text-align: right;\">\n",
       "      <th></th>\n",
       "      <th>id</th>\n",
       "      <th>country_id</th>\n",
       "      <th>league_id</th>\n",
       "      <th>season</th>\n",
       "      <th>stage</th>\n",
       "      <th>date</th>\n",
       "      <th>match_api_id</th>\n",
       "      <th>home_team_api_id</th>\n",
       "      <th>away_team_api_id</th>\n",
       "      <th>home_team_goal</th>\n",
       "      <th>away_team_goal</th>\n",
       "    </tr>\n",
       "  </thead>\n",
       "  <tbody>\n",
       "    <tr>\n",
       "      <th>0</th>\n",
       "      <td>1</td>\n",
       "      <td>1</td>\n",
       "      <td>1</td>\n",
       "      <td>2008/2009</td>\n",
       "      <td>1</td>\n",
       "      <td>2008-08-17 00:00:00</td>\n",
       "      <td>492473</td>\n",
       "      <td>9987</td>\n",
       "      <td>9993</td>\n",
       "      <td>1</td>\n",
       "      <td>1</td>\n",
       "    </tr>\n",
       "  </tbody>\n",
       "</table>\n",
       "</div>"
      ],
      "text/plain": [
       "   id  country_id  league_id     season  stage                 date  \\\n",
       "0   1           1          1  2008/2009      1  2008-08-17 00:00:00   \n",
       "\n",
       "   match_api_id  home_team_api_id  away_team_api_id  home_team_goal  \\\n",
       "0        492473              9987              9993               1   \n",
       "\n",
       "   away_team_goal  \n",
       "0               1  "
      ]
     },
     "execution_count": 58,
     "metadata": {},
     "output_type": "execute_result"
    }
   ],
   "source": [
    "# Loading data using sqlite3\n",
    "\n",
    "conn = sqlite3.connect('database.sqlite')\n",
    "\n",
    "# import necessary data for home vs away comparison into df_match dataframe\n",
    "query_match = \"select id, country_id, league_id, season, stage, date, match_api_id, home_team_api_id, away_team_api_id, home_team_goal, away_team_goal from match\"\n",
    "df_match = pd.read_sql(query_match, con=conn)\n",
    "df_match.head(1) "
   ]
  },
  {
   "cell_type": "code",
   "execution_count": 59,
   "metadata": {},
   "outputs": [
    {
     "data": {
      "text/html": [
       "<div>\n",
       "<style scoped>\n",
       "    .dataframe tbody tr th:only-of-type {\n",
       "        vertical-align: middle;\n",
       "    }\n",
       "\n",
       "    .dataframe tbody tr th {\n",
       "        vertical-align: top;\n",
       "    }\n",
       "\n",
       "    .dataframe thead th {\n",
       "        text-align: right;\n",
       "    }\n",
       "</style>\n",
       "<table border=\"1\" class=\"dataframe\">\n",
       "  <thead>\n",
       "    <tr style=\"text-align: right;\">\n",
       "      <th></th>\n",
       "      <th>id</th>\n",
       "      <th>player_api_id</th>\n",
       "      <th>player_name</th>\n",
       "      <th>player_fifa_api_id</th>\n",
       "      <th>birthday</th>\n",
       "      <th>height</th>\n",
       "      <th>weight</th>\n",
       "    </tr>\n",
       "  </thead>\n",
       "  <tbody>\n",
       "    <tr>\n",
       "      <th>0</th>\n",
       "      <td>1</td>\n",
       "      <td>505942</td>\n",
       "      <td>Aaron Appindangoye</td>\n",
       "      <td>218353</td>\n",
       "      <td>1992-02-29 00:00:00</td>\n",
       "      <td>182.88</td>\n",
       "      <td>187</td>\n",
       "    </tr>\n",
       "  </tbody>\n",
       "</table>\n",
       "</div>"
      ],
      "text/plain": [
       "   id  player_api_id         player_name  player_fifa_api_id  \\\n",
       "0   1         505942  Aaron Appindangoye              218353   \n",
       "\n",
       "              birthday  height  weight  \n",
       "0  1992-02-29 00:00:00  182.88     187  "
      ]
     },
     "execution_count": 59,
     "metadata": {},
     "output_type": "execute_result"
    }
   ],
   "source": [
    "# import data from player table into df_player dataframe\n",
    "query_player = \"select * from player\"\n",
    "df_player = pd.read_sql(query_player, con=conn)\n",
    "df_player.head(1)"
   ]
  },
  {
   "cell_type": "code",
   "execution_count": 60,
   "metadata": {},
   "outputs": [
    {
     "data": {
      "text/html": [
       "<div>\n",
       "<style scoped>\n",
       "    .dataframe tbody tr th:only-of-type {\n",
       "        vertical-align: middle;\n",
       "    }\n",
       "\n",
       "    .dataframe tbody tr th {\n",
       "        vertical-align: top;\n",
       "    }\n",
       "\n",
       "    .dataframe thead th {\n",
       "        text-align: right;\n",
       "    }\n",
       "</style>\n",
       "<table border=\"1\" class=\"dataframe\">\n",
       "  <thead>\n",
       "    <tr style=\"text-align: right;\">\n",
       "      <th></th>\n",
       "      <th>id</th>\n",
       "      <th>player_fifa_api_id</th>\n",
       "      <th>player_api_id</th>\n",
       "      <th>date</th>\n",
       "      <th>overall_rating</th>\n",
       "      <th>potential</th>\n",
       "      <th>preferred_foot</th>\n",
       "      <th>penalties</th>\n",
       "    </tr>\n",
       "  </thead>\n",
       "  <tbody>\n",
       "    <tr>\n",
       "      <th>0</th>\n",
       "      <td>1</td>\n",
       "      <td>218353</td>\n",
       "      <td>505942</td>\n",
       "      <td>2016-02-18 00:00:00</td>\n",
       "      <td>67.0</td>\n",
       "      <td>71.0</td>\n",
       "      <td>right</td>\n",
       "      <td>48.0</td>\n",
       "    </tr>\n",
       "  </tbody>\n",
       "</table>\n",
       "</div>"
      ],
      "text/plain": [
       "   id  player_fifa_api_id  player_api_id                 date  overall_rating  \\\n",
       "0   1              218353         505942  2016-02-18 00:00:00            67.0   \n",
       "\n",
       "   potential preferred_foot  penalties  \n",
       "0       71.0          right       48.0  "
      ]
     },
     "execution_count": 60,
     "metadata": {},
     "output_type": "execute_result"
    }
   ],
   "source": [
    "# import necessary data from player attributes table into df_player_att dataframe\n",
    "query_player_att = \"select id, player_fifa_api_id, player_api_id, date, overall_rating, potential, preferred_foot, penalties from player_attributes\"\n",
    "df_player_att = pd.read_sql(query_player_att, con=conn)\n",
    "df_player_att.head(1)"
   ]
  },
  {
   "cell_type": "code",
   "execution_count": 61,
   "metadata": {},
   "outputs": [
    {
     "data": {
      "text/html": [
       "<div>\n",
       "<style scoped>\n",
       "    .dataframe tbody tr th:only-of-type {\n",
       "        vertical-align: middle;\n",
       "    }\n",
       "\n",
       "    .dataframe tbody tr th {\n",
       "        vertical-align: top;\n",
       "    }\n",
       "\n",
       "    .dataframe thead th {\n",
       "        text-align: right;\n",
       "    }\n",
       "</style>\n",
       "<table border=\"1\" class=\"dataframe\">\n",
       "  <thead>\n",
       "    <tr style=\"text-align: right;\">\n",
       "      <th></th>\n",
       "      <th>id</th>\n",
       "      <th>team_api_id</th>\n",
       "      <th>team_fifa_api_id</th>\n",
       "      <th>team_long_name</th>\n",
       "      <th>team_short_name</th>\n",
       "    </tr>\n",
       "  </thead>\n",
       "  <tbody>\n",
       "    <tr>\n",
       "      <th>0</th>\n",
       "      <td>1</td>\n",
       "      <td>9987</td>\n",
       "      <td>673.0</td>\n",
       "      <td>KRC Genk</td>\n",
       "      <td>GEN</td>\n",
       "    </tr>\n",
       "  </tbody>\n",
       "</table>\n",
       "</div>"
      ],
      "text/plain": [
       "   id  team_api_id  team_fifa_api_id team_long_name team_short_name\n",
       "0   1         9987             673.0       KRC Genk             GEN"
      ]
     },
     "execution_count": 61,
     "metadata": {},
     "output_type": "execute_result"
    }
   ],
   "source": [
    "# import data from team table into df_team dataframe\n",
    "query_team = \"select * from team\"\n",
    "df_team = pd.read_sql(query_team, con=conn)\n",
    "df_team.head(1)"
   ]
  },
  {
   "cell_type": "markdown",
   "metadata": {},
   "source": [
    "I have imported necessary date from a few tables namely - match, player, player_attributes and team. I did not load data from other tables because I won't be using them in this project."
   ]
  },
  {
   "cell_type": "markdown",
   "metadata": {},
   "source": [
    "### Data Cleaning "
   ]
  },
  {
   "cell_type": "markdown",
   "metadata": {},
   "source": [
    "##### Investigating the df_match dataset in the following steps:"
   ]
  },
  {
   "cell_type": "code",
   "execution_count": 62,
   "metadata": {},
   "outputs": [
    {
     "name": "stdout",
     "output_type": "stream",
     "text": [
      "(25979, 11)\n",
      "<class 'pandas.core.frame.DataFrame'>\n",
      "RangeIndex: 25979 entries, 0 to 25978\n",
      "Data columns (total 11 columns):\n",
      "id                  25979 non-null int64\n",
      "country_id          25979 non-null int64\n",
      "league_id           25979 non-null int64\n",
      "season              25979 non-null object\n",
      "stage               25979 non-null int64\n",
      "date                25979 non-null object\n",
      "match_api_id        25979 non-null int64\n",
      "home_team_api_id    25979 non-null int64\n",
      "away_team_api_id    25979 non-null int64\n",
      "home_team_goal      25979 non-null int64\n",
      "away_team_goal      25979 non-null int64\n",
      "dtypes: int64(9), object(2)\n",
      "memory usage: 2.2+ MB\n"
     ]
    },
    {
     "data": {
      "text/plain": [
       "0"
      ]
     },
     "execution_count": 62,
     "metadata": {},
     "output_type": "execute_result"
    }
   ],
   "source": [
    "# check the dimension of the df_match dataset\n",
    "print(df_match.shape)\n",
    "\n",
    "# check if there are any missing data in the df_match dataset using info()\n",
    "df_match.info()\n",
    "\n",
    "# check if there are any duplicates in df_match dataset\n",
    "df_match.duplicated().sum()"
   ]
  },
  {
   "cell_type": "code",
   "execution_count": 63,
   "metadata": {},
   "outputs": [
    {
     "data": {
      "text/html": [
       "<div>\n",
       "<style scoped>\n",
       "    .dataframe tbody tr th:only-of-type {\n",
       "        vertical-align: middle;\n",
       "    }\n",
       "\n",
       "    .dataframe tbody tr th {\n",
       "        vertical-align: top;\n",
       "    }\n",
       "\n",
       "    .dataframe thead th {\n",
       "        text-align: right;\n",
       "    }\n",
       "</style>\n",
       "<table border=\"1\" class=\"dataframe\">\n",
       "  <thead>\n",
       "    <tr style=\"text-align: right;\">\n",
       "      <th></th>\n",
       "      <th>id</th>\n",
       "      <th>country_id</th>\n",
       "      <th>league_id</th>\n",
       "      <th>stage</th>\n",
       "      <th>match_api_id</th>\n",
       "      <th>home_team_api_id</th>\n",
       "      <th>away_team_api_id</th>\n",
       "      <th>home_team_goal</th>\n",
       "      <th>away_team_goal</th>\n",
       "    </tr>\n",
       "  </thead>\n",
       "  <tbody>\n",
       "    <tr>\n",
       "      <th>count</th>\n",
       "      <td>25979.000000</td>\n",
       "      <td>25979.000000</td>\n",
       "      <td>25979.000000</td>\n",
       "      <td>25979.000000</td>\n",
       "      <td>2.597900e+04</td>\n",
       "      <td>25979.000000</td>\n",
       "      <td>25979.000000</td>\n",
       "      <td>25979.000000</td>\n",
       "      <td>25979.000000</td>\n",
       "    </tr>\n",
       "    <tr>\n",
       "      <th>mean</th>\n",
       "      <td>12990.000000</td>\n",
       "      <td>11738.630317</td>\n",
       "      <td>11738.630317</td>\n",
       "      <td>18.242773</td>\n",
       "      <td>1.195429e+06</td>\n",
       "      <td>9984.371993</td>\n",
       "      <td>9984.475115</td>\n",
       "      <td>1.544594</td>\n",
       "      <td>1.160938</td>\n",
       "    </tr>\n",
       "    <tr>\n",
       "      <th>std</th>\n",
       "      <td>7499.635658</td>\n",
       "      <td>7553.936759</td>\n",
       "      <td>7553.936759</td>\n",
       "      <td>10.407354</td>\n",
       "      <td>4.946279e+05</td>\n",
       "      <td>14087.453758</td>\n",
       "      <td>14087.445135</td>\n",
       "      <td>1.297158</td>\n",
       "      <td>1.142110</td>\n",
       "    </tr>\n",
       "    <tr>\n",
       "      <th>min</th>\n",
       "      <td>1.000000</td>\n",
       "      <td>1.000000</td>\n",
       "      <td>1.000000</td>\n",
       "      <td>1.000000</td>\n",
       "      <td>4.831290e+05</td>\n",
       "      <td>1601.000000</td>\n",
       "      <td>1601.000000</td>\n",
       "      <td>0.000000</td>\n",
       "      <td>0.000000</td>\n",
       "    </tr>\n",
       "    <tr>\n",
       "      <th>25%</th>\n",
       "      <td>6495.500000</td>\n",
       "      <td>4769.000000</td>\n",
       "      <td>4769.000000</td>\n",
       "      <td>9.000000</td>\n",
       "      <td>7.684365e+05</td>\n",
       "      <td>8475.000000</td>\n",
       "      <td>8475.000000</td>\n",
       "      <td>1.000000</td>\n",
       "      <td>0.000000</td>\n",
       "    </tr>\n",
       "    <tr>\n",
       "      <th>50%</th>\n",
       "      <td>12990.000000</td>\n",
       "      <td>10257.000000</td>\n",
       "      <td>10257.000000</td>\n",
       "      <td>18.000000</td>\n",
       "      <td>1.147511e+06</td>\n",
       "      <td>8697.000000</td>\n",
       "      <td>8697.000000</td>\n",
       "      <td>1.000000</td>\n",
       "      <td>1.000000</td>\n",
       "    </tr>\n",
       "    <tr>\n",
       "      <th>75%</th>\n",
       "      <td>19484.500000</td>\n",
       "      <td>17642.000000</td>\n",
       "      <td>17642.000000</td>\n",
       "      <td>27.000000</td>\n",
       "      <td>1.709852e+06</td>\n",
       "      <td>9925.000000</td>\n",
       "      <td>9925.000000</td>\n",
       "      <td>2.000000</td>\n",
       "      <td>2.000000</td>\n",
       "    </tr>\n",
       "    <tr>\n",
       "      <th>max</th>\n",
       "      <td>25979.000000</td>\n",
       "      <td>24558.000000</td>\n",
       "      <td>24558.000000</td>\n",
       "      <td>38.000000</td>\n",
       "      <td>2.216672e+06</td>\n",
       "      <td>274581.000000</td>\n",
       "      <td>274581.000000</td>\n",
       "      <td>10.000000</td>\n",
       "      <td>9.000000</td>\n",
       "    </tr>\n",
       "  </tbody>\n",
       "</table>\n",
       "</div>"
      ],
      "text/plain": [
       "                 id    country_id     league_id         stage  match_api_id  \\\n",
       "count  25979.000000  25979.000000  25979.000000  25979.000000  2.597900e+04   \n",
       "mean   12990.000000  11738.630317  11738.630317     18.242773  1.195429e+06   \n",
       "std     7499.635658   7553.936759   7553.936759     10.407354  4.946279e+05   \n",
       "min        1.000000      1.000000      1.000000      1.000000  4.831290e+05   \n",
       "25%     6495.500000   4769.000000   4769.000000      9.000000  7.684365e+05   \n",
       "50%    12990.000000  10257.000000  10257.000000     18.000000  1.147511e+06   \n",
       "75%    19484.500000  17642.000000  17642.000000     27.000000  1.709852e+06   \n",
       "max    25979.000000  24558.000000  24558.000000     38.000000  2.216672e+06   \n",
       "\n",
       "       home_team_api_id  away_team_api_id  home_team_goal  away_team_goal  \n",
       "count      25979.000000      25979.000000    25979.000000    25979.000000  \n",
       "mean        9984.371993       9984.475115        1.544594        1.160938  \n",
       "std        14087.453758      14087.445135        1.297158        1.142110  \n",
       "min         1601.000000       1601.000000        0.000000        0.000000  \n",
       "25%         8475.000000       8475.000000        1.000000        0.000000  \n",
       "50%         8697.000000       8697.000000        1.000000        1.000000  \n",
       "75%         9925.000000       9925.000000        2.000000        2.000000  \n",
       "max       274581.000000     274581.000000       10.000000        9.000000  "
      ]
     },
     "execution_count": 63,
     "metadata": {},
     "output_type": "execute_result"
    }
   ],
   "source": [
    "# get basic statistical data for the df_match dataset\n",
    "df_match.describe()"
   ]
  },
  {
   "cell_type": "markdown",
   "metadata": {},
   "source": [
    "The match dataset is not missing any data and is clean except for the date column's data type. This can be changed to datetime as part of cleaning steps"
   ]
  },
  {
   "cell_type": "code",
   "execution_count": 64,
   "metadata": {},
   "outputs": [
    {
     "name": "stdout",
     "output_type": "stream",
     "text": [
      "<class 'pandas.core.frame.DataFrame'>\n",
      "RangeIndex: 25979 entries, 0 to 25978\n",
      "Data columns (total 11 columns):\n",
      "id                  25979 non-null int64\n",
      "country_id          25979 non-null int64\n",
      "league_id           25979 non-null int64\n",
      "season              25979 non-null object\n",
      "stage               25979 non-null int64\n",
      "date                25979 non-null datetime64[ns]\n",
      "match_api_id        25979 non-null int64\n",
      "home_team_api_id    25979 non-null int64\n",
      "away_team_api_id    25979 non-null int64\n",
      "home_team_goal      25979 non-null int64\n",
      "away_team_goal      25979 non-null int64\n",
      "dtypes: datetime64[ns](1), int64(9), object(1)\n",
      "memory usage: 2.2+ MB\n"
     ]
    }
   ],
   "source": [
    "#convert the date datatype from string to datetime\n",
    "df_match['date']=pd.to_datetime(df_match['date'])\n",
    "df_match.info()"
   ]
  },
  {
   "cell_type": "markdown",
   "metadata": {},
   "source": [
    "#### Investigating the df_player dataset in the following steps:"
   ]
  },
  {
   "cell_type": "code",
   "execution_count": 65,
   "metadata": {},
   "outputs": [
    {
     "name": "stdout",
     "output_type": "stream",
     "text": [
      "(11060, 7)\n",
      "<class 'pandas.core.frame.DataFrame'>\n",
      "RangeIndex: 11060 entries, 0 to 11059\n",
      "Data columns (total 7 columns):\n",
      "id                    11060 non-null int64\n",
      "player_api_id         11060 non-null int64\n",
      "player_name           11060 non-null object\n",
      "player_fifa_api_id    11060 non-null int64\n",
      "birthday              11060 non-null object\n",
      "height                11060 non-null float64\n",
      "weight                11060 non-null int64\n",
      "dtypes: float64(1), int64(4), object(2)\n",
      "memory usage: 604.9+ KB\n"
     ]
    },
    {
     "data": {
      "text/plain": [
       "0"
      ]
     },
     "execution_count": 65,
     "metadata": {},
     "output_type": "execute_result"
    }
   ],
   "source": [
    "# check the dimension of the df_player dataset\n",
    "print(df_player.shape)\n",
    "\n",
    "# check if there are any missing data in the df_player dataset\n",
    "df_player.info()\n",
    "\n",
    "# check if there are any duplicates in df_player dataset\n",
    "df_player.duplicated().sum()\n"
   ]
  },
  {
   "cell_type": "markdown",
   "metadata": {},
   "source": [
    "The player dataset is not missing any data and is clean. There is no need for any cleaning steps"
   ]
  },
  {
   "cell_type": "markdown",
   "metadata": {},
   "source": [
    "#### Investigating the df_player_att dataset in the following steps:"
   ]
  },
  {
   "cell_type": "code",
   "execution_count": 66,
   "metadata": {},
   "outputs": [
    {
     "name": "stdout",
     "output_type": "stream",
     "text": [
      "(183978, 8)\n",
      "<class 'pandas.core.frame.DataFrame'>\n",
      "RangeIndex: 183978 entries, 0 to 183977\n",
      "Data columns (total 8 columns):\n",
      "id                    183978 non-null int64\n",
      "player_fifa_api_id    183978 non-null int64\n",
      "player_api_id         183978 non-null int64\n",
      "date                  183978 non-null object\n",
      "overall_rating        183142 non-null float64\n",
      "potential             183142 non-null float64\n",
      "preferred_foot        183142 non-null object\n",
      "penalties             183142 non-null float64\n",
      "dtypes: float64(3), int64(3), object(2)\n",
      "memory usage: 11.2+ MB\n"
     ]
    },
    {
     "data": {
      "text/plain": [
       "0"
      ]
     },
     "execution_count": 66,
     "metadata": {},
     "output_type": "execute_result"
    }
   ],
   "source": [
    "# check the dimension of the df_player_att dataset\n",
    "print(df_player_att.shape)\n",
    "\n",
    "# check info in the df_player_att dataset\n",
    "df_player_att.info()\n",
    "\n",
    "# check if there are any duplicates in df_player_att dataset\n",
    "df_player_att.duplicated().sum()"
   ]
  },
  {
   "cell_type": "code",
   "execution_count": 67,
   "metadata": {},
   "outputs": [
    {
     "data": {
      "text/html": [
       "<div>\n",
       "<style scoped>\n",
       "    .dataframe tbody tr th:only-of-type {\n",
       "        vertical-align: middle;\n",
       "    }\n",
       "\n",
       "    .dataframe tbody tr th {\n",
       "        vertical-align: top;\n",
       "    }\n",
       "\n",
       "    .dataframe thead th {\n",
       "        text-align: right;\n",
       "    }\n",
       "</style>\n",
       "<table border=\"1\" class=\"dataframe\">\n",
       "  <thead>\n",
       "    <tr style=\"text-align: right;\">\n",
       "      <th></th>\n",
       "      <th>id</th>\n",
       "      <th>player_fifa_api_id</th>\n",
       "      <th>player_api_id</th>\n",
       "      <th>overall_rating</th>\n",
       "      <th>potential</th>\n",
       "      <th>penalties</th>\n",
       "    </tr>\n",
       "  </thead>\n",
       "  <tbody>\n",
       "    <tr>\n",
       "      <th>count</th>\n",
       "      <td>183978.00000</td>\n",
       "      <td>183978.000000</td>\n",
       "      <td>183978.000000</td>\n",
       "      <td>183142.000000</td>\n",
       "      <td>183142.000000</td>\n",
       "      <td>183142.000000</td>\n",
       "    </tr>\n",
       "    <tr>\n",
       "      <th>mean</th>\n",
       "      <td>91989.50000</td>\n",
       "      <td>165671.524291</td>\n",
       "      <td>135900.617324</td>\n",
       "      <td>68.600015</td>\n",
       "      <td>73.460353</td>\n",
       "      <td>55.003986</td>\n",
       "    </tr>\n",
       "    <tr>\n",
       "      <th>std</th>\n",
       "      <td>53110.01825</td>\n",
       "      <td>53851.094769</td>\n",
       "      <td>136927.840510</td>\n",
       "      <td>7.041139</td>\n",
       "      <td>6.592271</td>\n",
       "      <td>15.546519</td>\n",
       "    </tr>\n",
       "    <tr>\n",
       "      <th>min</th>\n",
       "      <td>1.00000</td>\n",
       "      <td>2.000000</td>\n",
       "      <td>2625.000000</td>\n",
       "      <td>33.000000</td>\n",
       "      <td>39.000000</td>\n",
       "      <td>2.000000</td>\n",
       "    </tr>\n",
       "    <tr>\n",
       "      <th>25%</th>\n",
       "      <td>45995.25000</td>\n",
       "      <td>155798.000000</td>\n",
       "      <td>34763.000000</td>\n",
       "      <td>64.000000</td>\n",
       "      <td>69.000000</td>\n",
       "      <td>45.000000</td>\n",
       "    </tr>\n",
       "    <tr>\n",
       "      <th>50%</th>\n",
       "      <td>91989.50000</td>\n",
       "      <td>183488.000000</td>\n",
       "      <td>77741.000000</td>\n",
       "      <td>69.000000</td>\n",
       "      <td>74.000000</td>\n",
       "      <td>57.000000</td>\n",
       "    </tr>\n",
       "    <tr>\n",
       "      <th>75%</th>\n",
       "      <td>137983.75000</td>\n",
       "      <td>199848.000000</td>\n",
       "      <td>191080.000000</td>\n",
       "      <td>73.000000</td>\n",
       "      <td>78.000000</td>\n",
       "      <td>67.000000</td>\n",
       "    </tr>\n",
       "    <tr>\n",
       "      <th>max</th>\n",
       "      <td>183978.00000</td>\n",
       "      <td>234141.000000</td>\n",
       "      <td>750584.000000</td>\n",
       "      <td>94.000000</td>\n",
       "      <td>97.000000</td>\n",
       "      <td>96.000000</td>\n",
       "    </tr>\n",
       "  </tbody>\n",
       "</table>\n",
       "</div>"
      ],
      "text/plain": [
       "                 id  player_fifa_api_id  player_api_id  overall_rating  \\\n",
       "count  183978.00000       183978.000000  183978.000000   183142.000000   \n",
       "mean    91989.50000       165671.524291  135900.617324       68.600015   \n",
       "std     53110.01825        53851.094769  136927.840510        7.041139   \n",
       "min         1.00000            2.000000    2625.000000       33.000000   \n",
       "25%     45995.25000       155798.000000   34763.000000       64.000000   \n",
       "50%     91989.50000       183488.000000   77741.000000       69.000000   \n",
       "75%    137983.75000       199848.000000  191080.000000       73.000000   \n",
       "max    183978.00000       234141.000000  750584.000000       94.000000   \n",
       "\n",
       "           potential      penalties  \n",
       "count  183142.000000  183142.000000  \n",
       "mean       73.460353      55.003986  \n",
       "std         6.592271      15.546519  \n",
       "min        39.000000       2.000000  \n",
       "25%        69.000000      45.000000  \n",
       "50%        74.000000      57.000000  \n",
       "75%        78.000000      67.000000  \n",
       "max        97.000000      96.000000  "
      ]
     },
     "execution_count": 67,
     "metadata": {},
     "output_type": "execute_result"
    }
   ],
   "source": [
    "# get basic statistical data for the df_player_att dataset\n",
    "df_player_att.describe()"
   ]
  },
  {
   "cell_type": "code",
   "execution_count": 68,
   "metadata": {},
   "outputs": [
    {
     "data": {
      "text/plain": [
       "id                      0\n",
       "player_fifa_api_id      0\n",
       "player_api_id           0\n",
       "date                    0\n",
       "overall_rating        836\n",
       "potential             836\n",
       "preferred_foot        836\n",
       "penalties             836\n",
       "dtype: int64"
      ]
     },
     "execution_count": 68,
     "metadata": {},
     "output_type": "execute_result"
    }
   ],
   "source": [
    "# check the number of missing data in each column of df_player_att dataset\n",
    "df_player_att.isnull().sum()"
   ]
  },
  {
   "cell_type": "markdown",
   "metadata": {},
   "source": [
    "The df_player_att dataset is missing about 800+ entries in columns overall_rating, potential, preferred_foot and penalties. As part of data wrangling, will be dropping all rows which has missing data."
   ]
  },
  {
   "cell_type": "code",
   "execution_count": 69,
   "metadata": {},
   "outputs": [],
   "source": [
    "# Drop all rows with missing data in dataset df_player_att\n",
    "df_player_att.dropna(inplace=True)"
   ]
  },
  {
   "cell_type": "code",
   "execution_count": 70,
   "metadata": {},
   "outputs": [
    {
     "name": "stdout",
     "output_type": "stream",
     "text": [
      "<class 'pandas.core.frame.DataFrame'>\n",
      "Int64Index: 183142 entries, 0 to 183977\n",
      "Data columns (total 8 columns):\n",
      "id                    183142 non-null int64\n",
      "player_fifa_api_id    183142 non-null int64\n",
      "player_api_id         183142 non-null int64\n",
      "date                  183142 non-null object\n",
      "overall_rating        183142 non-null float64\n",
      "potential             183142 non-null float64\n",
      "preferred_foot        183142 non-null object\n",
      "penalties             183142 non-null float64\n",
      "dtypes: float64(3), int64(3), object(2)\n",
      "memory usage: 12.6+ MB\n"
     ]
    }
   ],
   "source": [
    "# check info in the df_player_att dataset\n",
    "df_player_att.info()"
   ]
  },
  {
   "cell_type": "code",
   "execution_count": 71,
   "metadata": {},
   "outputs": [
    {
     "name": "stdout",
     "output_type": "stream",
     "text": [
      "<class 'pandas.core.frame.DataFrame'>\n",
      "Int64Index: 183142 entries, 0 to 183977\n",
      "Data columns (total 8 columns):\n",
      "id                    183142 non-null int64\n",
      "player_fifa_api_id    183142 non-null int64\n",
      "player_api_id         183142 non-null int64\n",
      "date                  183142 non-null datetime64[ns]\n",
      "overall_rating        183142 non-null float64\n",
      "potential             183142 non-null float64\n",
      "preferred_foot        183142 non-null object\n",
      "penalties             183142 non-null int64\n",
      "dtypes: datetime64[ns](1), float64(2), int64(4), object(1)\n",
      "memory usage: 12.6+ MB\n"
     ]
    }
   ],
   "source": [
    "#convert the date datatype from string to datetime\n",
    "df_player_att['date']=pd.to_datetime(df_player_att['date'])\n",
    "\n",
    "#convert the datatype for penalties from float to int\n",
    "df_player_att.penalties = df_player_att.penalties.astype(int) \n",
    "\n",
    "df_player_att.info()"
   ]
  },
  {
   "cell_type": "markdown",
   "metadata": {},
   "source": [
    "The player attribute dataset is now clean."
   ]
  },
  {
   "cell_type": "markdown",
   "metadata": {},
   "source": [
    "#### Investigating the df_team dataset in the following steps:"
   ]
  },
  {
   "cell_type": "code",
   "execution_count": 72,
   "metadata": {},
   "outputs": [
    {
     "name": "stdout",
     "output_type": "stream",
     "text": [
      "(299, 5)\n",
      "<class 'pandas.core.frame.DataFrame'>\n",
      "RangeIndex: 299 entries, 0 to 298\n",
      "Data columns (total 5 columns):\n",
      "id                  299 non-null int64\n",
      "team_api_id         299 non-null int64\n",
      "team_fifa_api_id    288 non-null float64\n",
      "team_long_name      299 non-null object\n",
      "team_short_name     299 non-null object\n",
      "dtypes: float64(1), int64(2), object(2)\n",
      "memory usage: 11.8+ KB\n"
     ]
    },
    {
     "data": {
      "text/plain": [
       "0"
      ]
     },
     "execution_count": 72,
     "metadata": {},
     "output_type": "execute_result"
    }
   ],
   "source": [
    "# check the dimension of the df_team dataset\n",
    "print(df_team.shape)\n",
    "\n",
    "# check if there are any missing data in the df_team dataset\n",
    "df_team.info()\n",
    "\n",
    "# check if there are any duplicates in df_team dataset\n",
    "df_team.duplicated().sum()"
   ]
  },
  {
   "cell_type": "markdown",
   "metadata": {},
   "source": [
    "The column 'team_fifa_api_id' has missing data and the datatype is float which needs to be converted from float to int as part of cleaning steps. We are not using the column so I will drop the column."
   ]
  },
  {
   "cell_type": "code",
   "execution_count": 73,
   "metadata": {},
   "outputs": [
    {
     "name": "stdout",
     "output_type": "stream",
     "text": [
      "<class 'pandas.core.frame.DataFrame'>\n",
      "RangeIndex: 299 entries, 0 to 298\n",
      "Data columns (total 4 columns):\n",
      "id                 299 non-null int64\n",
      "team_api_id        299 non-null int64\n",
      "team_long_name     299 non-null object\n",
      "team_short_name    299 non-null object\n",
      "dtypes: int64(2), object(2)\n",
      "memory usage: 9.4+ KB\n"
     ]
    }
   ],
   "source": [
    "# dropping column team_fifa_api_id from df_tem dataset\n",
    "df_team.drop(['team_fifa_api_id'], axis=1, inplace=True)\n",
    "df_team.info()"
   ]
  },
  {
   "cell_type": "markdown",
   "metadata": {},
   "source": [
    "The team dataset is now clean"
   ]
  },
  {
   "cell_type": "markdown",
   "metadata": {},
   "source": [
    "<a id='eda'></a>\n",
    "## Exploratory Data Analysis\n",
    "\n",
    "\n",
    "### Research Question 1: Does home teams have an advantage over away teams? And which teams have scored max/min home and away goals? "
   ]
  },
  {
   "cell_type": "markdown",
   "metadata": {},
   "source": [
    "#### The below code will help analyze if home teams have an advantage over away teams"
   ]
  },
  {
   "cell_type": "code",
   "execution_count": 74,
   "metadata": {},
   "outputs": [
    {
     "data": {
      "text/html": [
       "<div>\n",
       "<style scoped>\n",
       "    .dataframe tbody tr th:only-of-type {\n",
       "        vertical-align: middle;\n",
       "    }\n",
       "\n",
       "    .dataframe tbody tr th {\n",
       "        vertical-align: top;\n",
       "    }\n",
       "\n",
       "    .dataframe thead th {\n",
       "        text-align: right;\n",
       "    }\n",
       "</style>\n",
       "<table border=\"1\" class=\"dataframe\">\n",
       "  <thead>\n",
       "    <tr style=\"text-align: right;\">\n",
       "      <th></th>\n",
       "      <th>id</th>\n",
       "      <th>country_id</th>\n",
       "      <th>league_id</th>\n",
       "      <th>season</th>\n",
       "      <th>stage</th>\n",
       "      <th>date</th>\n",
       "      <th>match_api_id</th>\n",
       "      <th>home_team_api_id</th>\n",
       "      <th>away_team_api_id</th>\n",
       "      <th>home_team_goal</th>\n",
       "      <th>away_team_goal</th>\n",
       "      <th>home_outcome</th>\n",
       "    </tr>\n",
       "  </thead>\n",
       "  <tbody>\n",
       "    <tr>\n",
       "      <th>0</th>\n",
       "      <td>1</td>\n",
       "      <td>1</td>\n",
       "      <td>1</td>\n",
       "      <td>2008/2009</td>\n",
       "      <td>1</td>\n",
       "      <td>2008-08-17</td>\n",
       "      <td>492473</td>\n",
       "      <td>9987</td>\n",
       "      <td>9993</td>\n",
       "      <td>1</td>\n",
       "      <td>1</td>\n",
       "      <td>d</td>\n",
       "    </tr>\n",
       "  </tbody>\n",
       "</table>\n",
       "</div>"
      ],
      "text/plain": [
       "   id  country_id  league_id     season  stage       date  match_api_id  \\\n",
       "0   1           1          1  2008/2009      1 2008-08-17        492473   \n",
       "\n",
       "   home_team_api_id  away_team_api_id  home_team_goal  away_team_goal  \\\n",
       "0              9987              9993               1               1   \n",
       "\n",
       "  home_outcome  \n",
       "0            d  "
      ]
     },
     "execution_count": 74,
     "metadata": {},
     "output_type": "execute_result"
    }
   ],
   "source": [
    "# Add 'home_outcome' column to the dataset based on the home_team_goal vs the away_team_goal.\n",
    "# if home goal > away goal = Won; if home goal < away goal = Lost ; if home goal == away goal = Draw \n",
    "df_match['home_outcome'] = df_match.apply(lambda x: 'w' if(x.home_team_goal > x.away_team_goal) else ('l' if(x.home_team_goal < x.away_team_goal) else 'd'), axis = 1)\n",
    "df_match.head(1)"
   ]
  },
  {
   "cell_type": "code",
   "execution_count": 75,
   "metadata": {},
   "outputs": [
    {
     "data": {
      "text/html": [
       "<div>\n",
       "<style scoped>\n",
       "    .dataframe tbody tr th:only-of-type {\n",
       "        vertical-align: middle;\n",
       "    }\n",
       "\n",
       "    .dataframe tbody tr th {\n",
       "        vertical-align: top;\n",
       "    }\n",
       "\n",
       "    .dataframe thead th {\n",
       "        text-align: right;\n",
       "    }\n",
       "</style>\n",
       "<table border=\"1\" class=\"dataframe\">\n",
       "  <thead>\n",
       "    <tr style=\"text-align: right;\">\n",
       "      <th></th>\n",
       "      <th>id</th>\n",
       "      <th>country_id</th>\n",
       "      <th>league_id</th>\n",
       "      <th>season</th>\n",
       "      <th>stage</th>\n",
       "      <th>date</th>\n",
       "      <th>match_api_id</th>\n",
       "      <th>home_team_api_id</th>\n",
       "      <th>away_team_api_id</th>\n",
       "      <th>home_team_goal</th>\n",
       "      <th>away_team_goal</th>\n",
       "      <th>home_outcome</th>\n",
       "      <th>away_outcome</th>\n",
       "    </tr>\n",
       "  </thead>\n",
       "  <tbody>\n",
       "    <tr>\n",
       "      <th>0</th>\n",
       "      <td>1</td>\n",
       "      <td>1</td>\n",
       "      <td>1</td>\n",
       "      <td>2008/2009</td>\n",
       "      <td>1</td>\n",
       "      <td>2008-08-17</td>\n",
       "      <td>492473</td>\n",
       "      <td>9987</td>\n",
       "      <td>9993</td>\n",
       "      <td>1</td>\n",
       "      <td>1</td>\n",
       "      <td>d</td>\n",
       "      <td>d</td>\n",
       "    </tr>\n",
       "  </tbody>\n",
       "</table>\n",
       "</div>"
      ],
      "text/plain": [
       "   id  country_id  league_id     season  stage       date  match_api_id  \\\n",
       "0   1           1          1  2008/2009      1 2008-08-17        492473   \n",
       "\n",
       "   home_team_api_id  away_team_api_id  home_team_goal  away_team_goal  \\\n",
       "0              9987              9993               1               1   \n",
       "\n",
       "  home_outcome away_outcome  \n",
       "0            d            d  "
      ]
     },
     "execution_count": 75,
     "metadata": {},
     "output_type": "execute_result"
    }
   ],
   "source": [
    "# Add 'away_outcome' column to the dataset based on the away_team_goal vs the home_team_goal\n",
    "# if away goal > home goal = Won; if away goal < home goal = Lost ; if away goal == home goal = Draw \n",
    "df_match['away_outcome'] = df_match.apply(lambda x: 'w' if(x.away_team_goal > x.home_team_goal) else ('l' if(x.away_team_goal < x.home_team_goal) else 'd'), axis = 1)\n",
    "df_match.head(1)"
   ]
  },
  {
   "cell_type": "code",
   "execution_count": 76,
   "metadata": {},
   "outputs": [
    {
     "data": {
      "text/plain": [
       "w    11917\n",
       "l     7466\n",
       "d     6596\n",
       "Name: home_outcome, dtype: int64"
      ]
     },
     "execution_count": 76,
     "metadata": {},
     "output_type": "execute_result"
    }
   ],
   "source": [
    "# number of matches won, lost and tied at home location\n",
    "result = df_match.home_outcome.value_counts()\n",
    "result"
   ]
  },
  {
   "cell_type": "code",
   "execution_count": 77,
   "metadata": {},
   "outputs": [
    {
     "data": {
      "image/png": "[encoded data removed]",
      "text/plain": [
       "<matplotlib.figure.Figure at 0x7f3e2a751198>"
      ]
     },
     "metadata": {},
     "output_type": "display_data"
    }
   ],
   "source": [
    "#create a pie chart to show the percentage and number of matches won vs matches lost and drawn at home location\n",
    "labels = 'Home', 'Away', 'Tie'\n",
    "colors = ['gold', 'lightskyblue', 'lightgrey']\n",
    "explode = (0.1, 0.0, 0.0)  # only \"explode\" the 1st slice (i.e. 'Won')\n",
    "\n",
    "fig1, ax1 = plt.subplots()\n",
    "ax1.pie(result,explode=explode,labels=labels,autopct=lambda p:'{:.2f}%''\\n({:.0f})'.format(p,(p/100)*result.sum()),colors=colors,shadow=True,startangle=90)\n",
    "ax1.axis('equal')  # Equal aspect ratio ensures that pie is drawn as a circle.\n",
    "plt.title('Percentage/Number of matches won by home team vs away team', fontsize = 16)\n",
    "plt.show()"
   ]
  },
  {
   "cell_type": "markdown",
   "metadata": {},
   "source": [
    "The above pie chart suggests that home teams have won 46 percent of matches played while away teams have won only 29 percent of matches played. 25 percent of matches resulted in a draw. \n",
    "\n",
    "From this we can infer that playing at home increases the chances of a team to win a match. "
   ]
  },
  {
   "cell_type": "code",
   "execution_count": 78,
   "metadata": {},
   "outputs": [
    {
     "data": {
      "text/plain": [
       "home_outcome\n",
       "d    0.993026\n",
       "l    0.596169\n",
       "w    2.444071\n",
       "Name: home_team_goal, dtype: float64"
      ]
     },
     "execution_count": 78,
     "metadata": {},
     "output_type": "execute_result"
    }
   ],
   "source": [
    "# groupby home_outcome (draw, lost, won) and display the mean of home team goals scored \n",
    "score_home = df_match.groupby('home_outcome').mean()['home_team_goal']\n",
    "score_home"
   ]
  },
  {
   "cell_type": "code",
   "execution_count": 79,
   "metadata": {},
   "outputs": [
    {
     "data": {
      "text/plain": [
       "away_outcome\n",
       "d    0.993026\n",
       "l    0.539901\n",
       "w    2.300563\n",
       "Name: away_team_goal, dtype: float64"
      ]
     },
     "execution_count": 79,
     "metadata": {},
     "output_type": "execute_result"
    }
   ],
   "source": [
    "# groupby away_outcome (draw, lost, won) and display the mean of away team goals scored \n",
    "score_away = df_match.groupby('away_outcome').mean()['away_team_goal']\n",
    "score_away"
   ]
  },
  {
   "cell_type": "code",
   "execution_count": 80,
   "metadata": {},
   "outputs": [
    {
     "data": {
      "image/png": "[encoded data removed]",
      "text/plain": [
       "<matplotlib.figure.Figure at 0x7f3e2a6b3f28>"
      ]
     },
     "metadata": {
      "needs_background": "light"
     },
     "output_type": "display_data"
    }
   ],
   "source": [
    "#create a double bar graph showing the average number of goals scored for \n",
    "# matches won, lost and tied at home and away locations\n",
    "n_groups = 3\n",
    "fig, ax = plt.subplots(figsize = (8,6))\n",
    "index = np.arange(n_groups)\n",
    "plt.bar(score_home.index, score_home,align='center', alpha=0.7,label='Home Location')\n",
    "plt.bar(score_away.index, score_away,align='center', alpha=0.7,label='Away Location')\n",
    "plt.title(\"Average number of goals scored for matches won, lost and tied at home vs away locations\", fontsize = 16)\n",
    "plt.xlabel(\"Match results\", fontsize = 14)\n",
    "plt.ylabel(\"Average number of goals scored\", fontsize = 14)\n",
    "plt.xticks(index,('Tied', 'Lost', 'Won'))\n",
    "plt.legend()\n",
    "plt.show();"
   ]
  },
  {
   "cell_type": "markdown",
   "metadata": {},
   "source": [
    "From the above bar graph we can deduce the following:                                                                       \n",
    "a) Home teams have won matches scoring an average of 2.44 goals per match whereas the away teams have won matches scoring an average of 2.30 goals per match.                                                                                         \n",
    "b) Home teams have lost matches scoring an average of 0.60 goals per match whereas the away teams have lost matches scoring an average of 0.54 goals per match.                                                                                         \n",
    "\n",
    "This shows that win or lose, home teams score more goals than away teams on an average."
   ]
  },
  {
   "cell_type": "code",
   "execution_count": 81,
   "metadata": {},
   "outputs": [
    {
     "data": {
      "text/plain": [
       "home_team_api_id\n",
       "1601    1.233333\n",
       "Name: home_team_goal, dtype: float64"
      ]
     },
     "execution_count": 81,
     "metadata": {},
     "output_type": "execute_result"
    }
   ],
   "source": [
    "# Find out the number of teams who have scored better when at home?\n",
    "\n",
    "# groupby home_team_api_id and find the average number of goals scored by each home team \n",
    "df_goals_home = df_match.groupby(['home_team_api_id']).mean()['home_team_goal']\n",
    "df_goals_home.head(1)"
   ]
  },
  {
   "cell_type": "code",
   "execution_count": 82,
   "metadata": {},
   "outputs": [
    {
     "data": {
      "text/plain": [
       "away_team_api_id\n",
       "1601    1.1\n",
       "Name: away_team_goal, dtype: float64"
      ]
     },
     "execution_count": 82,
     "metadata": {},
     "output_type": "execute_result"
    }
   ],
   "source": [
    "# groupby away_team_api_id and find the average number of goals scored by each away team \n",
    "df_goals_away = df_match.groupby(['away_team_api_id']).mean()['away_team_goal']\n",
    "df_goals_away.head(1)"
   ]
  },
  {
   "cell_type": "code",
   "execution_count": 83,
   "metadata": {},
   "outputs": [
    {
     "data": {
      "text/html": [
       "<div>\n",
       "<style scoped>\n",
       "    .dataframe tbody tr th:only-of-type {\n",
       "        vertical-align: middle;\n",
       "    }\n",
       "\n",
       "    .dataframe tbody tr th {\n",
       "        vertical-align: top;\n",
       "    }\n",
       "\n",
       "    .dataframe thead th {\n",
       "        text-align: right;\n",
       "    }\n",
       "</style>\n",
       "<table border=\"1\" class=\"dataframe\">\n",
       "  <thead>\n",
       "    <tr style=\"text-align: right;\">\n",
       "      <th></th>\n",
       "      <th>home_team_goal</th>\n",
       "      <th>away_team_goal</th>\n",
       "    </tr>\n",
       "  </thead>\n",
       "  <tbody>\n",
       "    <tr>\n",
       "      <th>1601</th>\n",
       "      <td>1.233333</td>\n",
       "      <td>1.1</td>\n",
       "    </tr>\n",
       "  </tbody>\n",
       "</table>\n",
       "</div>"
      ],
      "text/plain": [
       "      home_team_goal  away_team_goal\n",
       "1601        1.233333             1.1"
      ]
     },
     "execution_count": 83,
     "metadata": {},
     "output_type": "execute_result"
    }
   ],
   "source": [
    "# merge/concatenate (using inner join) the df_goals_home and df_goals_away into df_data dataframe \n",
    "df_data = pd.concat([df_goals_home,df_goals_away], join='inner',axis =1)\n",
    "df_data.head(1)"
   ]
  },
  {
   "cell_type": "code",
   "execution_count": 84,
   "metadata": {},
   "outputs": [
    {
     "data": {
      "text/html": [
       "<div>\n",
       "<style scoped>\n",
       "    .dataframe tbody tr th:only-of-type {\n",
       "        vertical-align: middle;\n",
       "    }\n",
       "\n",
       "    .dataframe tbody tr th {\n",
       "        vertical-align: top;\n",
       "    }\n",
       "\n",
       "    .dataframe thead th {\n",
       "        text-align: right;\n",
       "    }\n",
       "</style>\n",
       "<table border=\"1\" class=\"dataframe\">\n",
       "  <thead>\n",
       "    <tr style=\"text-align: right;\">\n",
       "      <th></th>\n",
       "      <th>home_team_goal</th>\n",
       "      <th>away_team_goal</th>\n",
       "      <th>higher_score_at_home</th>\n",
       "    </tr>\n",
       "  </thead>\n",
       "  <tbody>\n",
       "    <tr>\n",
       "      <th>1601</th>\n",
       "      <td>1.233333</td>\n",
       "      <td>1.1</td>\n",
       "      <td>yes</td>\n",
       "    </tr>\n",
       "  </tbody>\n",
       "</table>\n",
       "</div>"
      ],
      "text/plain": [
       "      home_team_goal  away_team_goal higher_score_at_home\n",
       "1601        1.233333             1.1                  yes"
      ]
     },
     "execution_count": 84,
     "metadata": {},
     "output_type": "execute_result"
    }
   ],
   "source": [
    "# add a 'team_scored_higher' column into df_data based on average number of home_team_goal vs \n",
    "# average number of away_team_goal\n",
    "df_data['higher_score_at_home'] = df_data.apply(lambda x: 'yes' if(x.home_team_goal > x.away_team_goal) else ('no' if(x.home_team_goal < x.away_team_goal) else 'draw'), axis = 1)\n",
    "df_data.head(1)"
   ]
  },
  {
   "cell_type": "code",
   "execution_count": 85,
   "metadata": {},
   "outputs": [
    {
     "data": {
      "text/plain": [
       "yes     286\n",
       "no        9\n",
       "draw      4\n",
       "Name: higher_score_at_home, dtype: int64"
      ]
     },
     "execution_count": 85,
     "metadata": {},
     "output_type": "execute_result"
    }
   ],
   "source": [
    "# Groups the number of teams that have on an avaergae won, lost and drawn at home locations\n",
    "result = df_data.higher_score_at_home.value_counts()\n",
    "result"
   ]
  },
  {
   "cell_type": "code",
   "execution_count": 86,
   "metadata": {},
   "outputs": [
    {
     "data": {
      "image/png": "[encoded data removed]",
      "text/plain": [
       "<matplotlib.figure.Figure at 0x7f3e28edecc0>"
      ]
     },
     "metadata": {},
     "output_type": "display_data"
    }
   ],
   "source": [
    "# create a pie chart to show the percentage/number of teams that have scored \n",
    "# more at home location vs their away location\n",
    "labels = 'Home', 'Away', 'Tie'\n",
    "colors = ['gold', 'lightskyblue', 'lightgrey']\n",
    "explode = (0.1, 0.1, 0.5)  # \"explode\" all slices so that the data is visible\n",
    "\n",
    "fig1, ax1 = plt.subplots()\n",
    "ax1.pie(result,explode=explode,labels=labels,autopct=lambda p:'{:.2f}%'' ({:.0f})'.format(p,(p/100)*result.sum()),colors=colors,shadow=True,startangle=20)\n",
    "ax1.axis('equal')  # Equal aspect ratio ensures that pie is drawn as a circle.\n",
    "plt.title('Percentage/Number of teams that have scored more at home location vs their away location', fontsize=16)\n",
    "plt.show();"
   ]
  },
  {
   "cell_type": "markdown",
   "metadata": {},
   "source": [
    "The above pie chart depicts that out of 299 teams, 96% of teams have scored higher at home location in comparison to their away location. Only about 3% of teams have scored higher at an away location than at home location and about 1% of teams have scored about the same whether at home or away location.\n",
    "\n",
    "From this we can infer that more teams are likely to score higher number of goals on an average while playing at home location when compared to away location. "
   ]
  },
  {
   "cell_type": "markdown",
   "metadata": {},
   "source": [
    "#### The below code will help analyze which teams have scored max/min home goals? "
   ]
  },
  {
   "cell_type": "code",
   "execution_count": 87,
   "metadata": {},
   "outputs": [
    {
     "data": {
      "text/html": [
       "<div>\n",
       "<style scoped>\n",
       "    .dataframe tbody tr th:only-of-type {\n",
       "        vertical-align: middle;\n",
       "    }\n",
       "\n",
       "    .dataframe tbody tr th {\n",
       "        vertical-align: top;\n",
       "    }\n",
       "\n",
       "    .dataframe thead th {\n",
       "        text-align: right;\n",
       "    }\n",
       "</style>\n",
       "<table border=\"1\" class=\"dataframe\">\n",
       "  <thead>\n",
       "    <tr style=\"text-align: right;\">\n",
       "      <th></th>\n",
       "      <th>home_team_goal</th>\n",
       "      <th>away_team_goal</th>\n",
       "      <th>higher_score_at_home</th>\n",
       "      <th>match_team_api_id</th>\n",
       "    </tr>\n",
       "  </thead>\n",
       "  <tbody>\n",
       "    <tr>\n",
       "      <th>1601</th>\n",
       "      <td>1.233333</td>\n",
       "      <td>1.1</td>\n",
       "      <td>yes</td>\n",
       "      <td>1601</td>\n",
       "    </tr>\n",
       "  </tbody>\n",
       "</table>\n",
       "</div>"
      ],
      "text/plain": [
       "      home_team_goal  away_team_goal higher_score_at_home  match_team_api_id\n",
       "1601        1.233333             1.1                  yes               1601"
      ]
     },
     "execution_count": 87,
     "metadata": {},
     "output_type": "execute_result"
    }
   ],
   "source": [
    "# create a new column 'match_team_api_id' with values from indexes of each row of df_data dataframe.\n",
    "df_data['match_team_api_id'] = df_data.index \n",
    "df_data.head(1)"
   ]
  },
  {
   "cell_type": "code",
   "execution_count": 88,
   "metadata": {},
   "outputs": [
    {
     "data": {
      "text/html": [
       "<div>\n",
       "<style scoped>\n",
       "    .dataframe tbody tr th:only-of-type {\n",
       "        vertical-align: middle;\n",
       "    }\n",
       "\n",
       "    .dataframe tbody tr th {\n",
       "        vertical-align: top;\n",
       "    }\n",
       "\n",
       "    .dataframe thead th {\n",
       "        text-align: right;\n",
       "    }\n",
       "</style>\n",
       "<table border=\"1\" class=\"dataframe\">\n",
       "  <thead>\n",
       "    <tr style=\"text-align: right;\">\n",
       "      <th></th>\n",
       "      <th>home_team_goal</th>\n",
       "      <th>away_team_goal</th>\n",
       "      <th>higher_score_at_home</th>\n",
       "      <th>match_team_api_id</th>\n",
       "      <th>id</th>\n",
       "      <th>team_api_id</th>\n",
       "      <th>team_long_name</th>\n",
       "      <th>team_short_name</th>\n",
       "    </tr>\n",
       "  </thead>\n",
       "  <tbody>\n",
       "    <tr>\n",
       "      <th>0</th>\n",
       "      <td>1.233333</td>\n",
       "      <td>1.1</td>\n",
       "      <td>yes</td>\n",
       "      <td>1601</td>\n",
       "      <td>31446</td>\n",
       "      <td>1601</td>\n",
       "      <td>Ruch Chorzów</td>\n",
       "      <td>CHO</td>\n",
       "    </tr>\n",
       "  </tbody>\n",
       "</table>\n",
       "</div>"
      ],
      "text/plain": [
       "   home_team_goal  away_team_goal higher_score_at_home  match_team_api_id  \\\n",
       "0        1.233333             1.1                  yes               1601   \n",
       "\n",
       "      id  team_api_id team_long_name team_short_name  \n",
       "0  31446         1601   Ruch Chorzów             CHO  "
      ]
     },
     "execution_count": 88,
     "metadata": {},
     "output_type": "execute_result"
    }
   ],
   "source": [
    "#Merging the df_data dataframe with df_team dataframe. \n",
    "df_team_match_combined = df_data.merge(df_team, left_on='match_team_api_id',right_on='team_api_id',how='inner')\n",
    "df_team_match_combined.head(1)"
   ]
  },
  {
   "cell_type": "code",
   "execution_count": 89,
   "metadata": {},
   "outputs": [
    {
     "data": {
      "text/html": [
       "<div>\n",
       "<style scoped>\n",
       "    .dataframe tbody tr th:only-of-type {\n",
       "        vertical-align: middle;\n",
       "    }\n",
       "\n",
       "    .dataframe tbody tr th {\n",
       "        vertical-align: top;\n",
       "    }\n",
       "\n",
       "    .dataframe thead th {\n",
       "        text-align: right;\n",
       "    }\n",
       "</style>\n",
       "<table border=\"1\" class=\"dataframe\">\n",
       "  <thead>\n",
       "    <tr style=\"text-align: right;\">\n",
       "      <th></th>\n",
       "      <th>home_team_goal</th>\n",
       "      <th>away_team_goal</th>\n",
       "      <th>higher_score_at_home</th>\n",
       "      <th>match_team_api_id</th>\n",
       "      <th>id</th>\n",
       "      <th>team_api_id</th>\n",
       "      <th>team_long_name</th>\n",
       "      <th>team_short_name</th>\n",
       "    </tr>\n",
       "  </thead>\n",
       "  <tbody>\n",
       "    <tr>\n",
       "      <th>140</th>\n",
       "      <td>3.322368</td>\n",
       "      <td>2.223684</td>\n",
       "      <td>yes</td>\n",
       "      <td>8633</td>\n",
       "      <td>43040</td>\n",
       "      <td>8633</td>\n",
       "      <td>Real Madrid CF</td>\n",
       "      <td>REA</td>\n",
       "    </tr>\n",
       "  </tbody>\n",
       "</table>\n",
       "</div>"
      ],
      "text/plain": [
       "     home_team_goal  away_team_goal higher_score_at_home  match_team_api_id  \\\n",
       "140        3.322368        2.223684                  yes               8633   \n",
       "\n",
       "        id  team_api_id  team_long_name team_short_name  \n",
       "140  43040         8633  Real Madrid CF             REA  "
      ]
     },
     "execution_count": 89,
     "metadata": {},
     "output_type": "execute_result"
    }
   ],
   "source": [
    "# Find team which has scored max home goals (mean). \n",
    "max_home_goal = df_team_match_combined.home_team_goal.max()\n",
    "df_team_match_combined.query('home_team_goal == {}'.format(max_home_goal))"
   ]
  },
  {
   "cell_type": "markdown",
   "metadata": {},
   "source": [
    "Real Madrid CF (REA) has scored max number of home goals (mean). On an average Real Madrid CF (REA) has scored 3.32 goals."
   ]
  },
  {
   "cell_type": "code",
   "execution_count": 90,
   "metadata": {},
   "outputs": [
    {
     "data": {
      "text/html": [
       "<div>\n",
       "<style scoped>\n",
       "    .dataframe tbody tr th:only-of-type {\n",
       "        vertical-align: middle;\n",
       "    }\n",
       "\n",
       "    .dataframe tbody tr th {\n",
       "        vertical-align: top;\n",
       "    }\n",
       "\n",
       "    .dataframe thead th {\n",
       "        text-align: right;\n",
       "    }\n",
       "</style>\n",
       "<table border=\"1\" class=\"dataframe\">\n",
       "  <thead>\n",
       "    <tr style=\"text-align: right;\">\n",
       "      <th></th>\n",
       "      <th>home_team_goal</th>\n",
       "      <th>away_team_goal</th>\n",
       "      <th>higher_score_at_home</th>\n",
       "      <th>match_team_api_id</th>\n",
       "      <th>id</th>\n",
       "      <th>team_api_id</th>\n",
       "      <th>team_long_name</th>\n",
       "      <th>team_short_name</th>\n",
       "    </tr>\n",
       "  </thead>\n",
       "  <tbody>\n",
       "    <tr>\n",
       "      <th>76</th>\n",
       "      <td>0.588235</td>\n",
       "      <td>0.941176</td>\n",
       "      <td>no</td>\n",
       "      <td>8357</td>\n",
       "      <td>18079</td>\n",
       "      <td>8357</td>\n",
       "      <td>SpVgg Greuther Fürth</td>\n",
       "      <td>GRF</td>\n",
       "    </tr>\n",
       "  </tbody>\n",
       "</table>\n",
       "</div>"
      ],
      "text/plain": [
       "    home_team_goal  away_team_goal higher_score_at_home  match_team_api_id  \\\n",
       "76        0.588235        0.941176                   no               8357   \n",
       "\n",
       "       id  team_api_id        team_long_name team_short_name  \n",
       "76  18079         8357  SpVgg Greuther Fürth             GRF  "
      ]
     },
     "execution_count": 90,
     "metadata": {},
     "output_type": "execute_result"
    }
   ],
   "source": [
    "# Find team which has scored min home goals (mean).\n",
    "min_home_goal = df_team_match_combined.home_team_goal.min()\n",
    "df_team_match_combined.query('home_team_goal == {}'.format(min_home_goal))"
   ]
  },
  {
   "cell_type": "markdown",
   "metadata": {},
   "source": [
    "SpVgg Greuther Fürth (GRF) has scored min number of home goals (mean). On an average SpVgg Greuther Fürth (GRF) has scored only 0.59 goals."
   ]
  },
  {
   "cell_type": "markdown",
   "metadata": {},
   "source": [
    "#### The below code will help analyze which teams have scored max/min away goals? "
   ]
  },
  {
   "cell_type": "code",
   "execution_count": 91,
   "metadata": {},
   "outputs": [
    {
     "data": {
      "text/html": [
       "<div>\n",
       "<style scoped>\n",
       "    .dataframe tbody tr th:only-of-type {\n",
       "        vertical-align: middle;\n",
       "    }\n",
       "\n",
       "    .dataframe tbody tr th {\n",
       "        vertical-align: top;\n",
       "    }\n",
       "\n",
       "    .dataframe thead th {\n",
       "        text-align: right;\n",
       "    }\n",
       "</style>\n",
       "<table border=\"1\" class=\"dataframe\">\n",
       "  <thead>\n",
       "    <tr style=\"text-align: right;\">\n",
       "      <th></th>\n",
       "      <th>home_team_goal</th>\n",
       "      <th>away_team_goal</th>\n",
       "      <th>higher_score_at_home</th>\n",
       "      <th>match_team_api_id</th>\n",
       "      <th>id</th>\n",
       "      <th>team_api_id</th>\n",
       "      <th>team_long_name</th>\n",
       "      <th>team_short_name</th>\n",
       "    </tr>\n",
       "  </thead>\n",
       "  <tbody>\n",
       "    <tr>\n",
       "      <th>141</th>\n",
       "      <td>3.256579</td>\n",
       "      <td>2.328947</td>\n",
       "      <td>yes</td>\n",
       "      <td>8634</td>\n",
       "      <td>43042</td>\n",
       "      <td>8634</td>\n",
       "      <td>FC Barcelona</td>\n",
       "      <td>BAR</td>\n",
       "    </tr>\n",
       "  </tbody>\n",
       "</table>\n",
       "</div>"
      ],
      "text/plain": [
       "     home_team_goal  away_team_goal higher_score_at_home  match_team_api_id  \\\n",
       "141        3.256579        2.328947                  yes               8634   \n",
       "\n",
       "        id  team_api_id team_long_name team_short_name  \n",
       "141  43042         8634   FC Barcelona             BAR  "
      ]
     },
     "execution_count": 91,
     "metadata": {},
     "output_type": "execute_result"
    }
   ],
   "source": [
    "# Find team which has scored max away goals (mean).\n",
    "max_away_goal = df_team_match_combined.away_team_goal.max()\n",
    "df_team_match_combined.query('away_team_goal == {}'.format(max_away_goal))"
   ]
  },
  {
   "cell_type": "markdown",
   "metadata": {},
   "source": [
    "FC Barcelona (BAR) has scored max number of away goals (mean). On an average FC Barcelona (BAR) has scored 2.33 goals."
   ]
  },
  {
   "cell_type": "code",
   "execution_count": 92,
   "metadata": {},
   "outputs": [
    {
     "data": {
      "text/html": [
       "<div>\n",
       "<style scoped>\n",
       "    .dataframe tbody tr th:only-of-type {\n",
       "        vertical-align: middle;\n",
       "    }\n",
       "\n",
       "    .dataframe tbody tr th {\n",
       "        vertical-align: top;\n",
       "    }\n",
       "\n",
       "    .dataframe thead th {\n",
       "        text-align: right;\n",
       "    }\n",
       "</style>\n",
       "<table border=\"1\" class=\"dataframe\">\n",
       "  <thead>\n",
       "    <tr style=\"text-align: right;\">\n",
       "      <th></th>\n",
       "      <th>home_team_goal</th>\n",
       "      <th>away_team_goal</th>\n",
       "      <th>higher_score_at_home</th>\n",
       "      <th>match_team_api_id</th>\n",
       "      <th>id</th>\n",
       "      <th>team_api_id</th>\n",
       "      <th>team_long_name</th>\n",
       "      <th>team_short_name</th>\n",
       "    </tr>\n",
       "  </thead>\n",
       "  <tbody>\n",
       "    <tr>\n",
       "      <th>116</th>\n",
       "      <td>1.368421</td>\n",
       "      <td>0.263158</td>\n",
       "      <td>yes</td>\n",
       "      <td>8550</td>\n",
       "      <td>14106</td>\n",
       "      <td>8550</td>\n",
       "      <td>FC Metz</td>\n",
       "      <td>MET</td>\n",
       "    </tr>\n",
       "  </tbody>\n",
       "</table>\n",
       "</div>"
      ],
      "text/plain": [
       "     home_team_goal  away_team_goal higher_score_at_home  match_team_api_id  \\\n",
       "116        1.368421        0.263158                  yes               8550   \n",
       "\n",
       "        id  team_api_id team_long_name team_short_name  \n",
       "116  14106         8550        FC Metz             MET  "
      ]
     },
     "execution_count": 92,
     "metadata": {},
     "output_type": "execute_result"
    }
   ],
   "source": [
    "min_away_goal = df_team_match_combined.away_team_goal.min()\n",
    "df_team_match_combined.query('away_team_goal == {}'.format(min_away_goal))"
   ]
  },
  {
   "cell_type": "markdown",
   "metadata": {},
   "source": [
    "FC Metz (MET) has scored min number of away goals (mean). On an average FC Metz (MET) has scored only 0.26 goals."
   ]
  },
  {
   "cell_type": "markdown",
   "metadata": {},
   "source": [
    "### Research Question 2 : Which teams have changed its performance most over time and which teams have changed its performance least over time?"
   ]
  },
  {
   "cell_type": "code",
   "execution_count": 93,
   "metadata": {},
   "outputs": [
    {
     "data": {
      "text/html": [
       "<div>\n",
       "<style scoped>\n",
       "    .dataframe tbody tr th:only-of-type {\n",
       "        vertical-align: middle;\n",
       "    }\n",
       "\n",
       "    .dataframe tbody tr th {\n",
       "        vertical-align: top;\n",
       "    }\n",
       "\n",
       "    .dataframe thead th {\n",
       "        text-align: right;\n",
       "    }\n",
       "</style>\n",
       "<table border=\"1\" class=\"dataframe\">\n",
       "  <thead>\n",
       "    <tr style=\"text-align: right;\">\n",
       "      <th></th>\n",
       "      <th>id</th>\n",
       "      <th>country_id</th>\n",
       "      <th>league_id</th>\n",
       "      <th>season</th>\n",
       "      <th>stage</th>\n",
       "      <th>date</th>\n",
       "      <th>match_api_id</th>\n",
       "      <th>home_team_api_id</th>\n",
       "      <th>away_team_api_id</th>\n",
       "      <th>home_team_goal</th>\n",
       "      <th>away_team_goal</th>\n",
       "      <th>home_outcome</th>\n",
       "      <th>away_outcome</th>\n",
       "    </tr>\n",
       "  </thead>\n",
       "  <tbody>\n",
       "    <tr>\n",
       "      <th>3</th>\n",
       "      <td>4</td>\n",
       "      <td>1</td>\n",
       "      <td>1</td>\n",
       "      <td>2008/2009</td>\n",
       "      <td>1</td>\n",
       "      <td>2008-08-17</td>\n",
       "      <td>492476</td>\n",
       "      <td>9991</td>\n",
       "      <td>9998</td>\n",
       "      <td>5</td>\n",
       "      <td>0</td>\n",
       "      <td>w</td>\n",
       "      <td>l</td>\n",
       "    </tr>\n",
       "  </tbody>\n",
       "</table>\n",
       "</div>"
      ],
      "text/plain": [
       "   id  country_id  league_id     season  stage       date  match_api_id  \\\n",
       "3   4           1          1  2008/2009      1 2008-08-17        492476   \n",
       "\n",
       "   home_team_api_id  away_team_api_id  home_team_goal  away_team_goal  \\\n",
       "3              9991              9998               5               0   \n",
       "\n",
       "  home_outcome away_outcome  \n",
       "3            w            l  "
      ]
     },
     "execution_count": 93,
     "metadata": {},
     "output_type": "execute_result"
    }
   ],
   "source": [
    "# Copying all the rows from df_match dataset whose home_outcome is w (won) into df_home_wins dataset\n",
    "df_home_wins = df_match.query('home_outcome == \"w\"')\n",
    "df_home_wins.head(1)"
   ]
  },
  {
   "cell_type": "code",
   "execution_count": 94,
   "metadata": {},
   "outputs": [],
   "source": [
    "# Moving only selected columns into the dataset. Also renaming some columns in the dataset for uniformity\n",
    "df_home_wins = df_home_wins[['id','country_id','league_id','season','stage','date','match_api_id','home_team_api_id','home_outcome']]\n",
    "df_home_wins.rename(columns={'home_team_api_id':'team_api_id','home_outcome':'outcome'},inplace=True)"
   ]
  },
  {
   "cell_type": "code",
   "execution_count": 95,
   "metadata": {},
   "outputs": [
    {
     "data": {
      "text/html": [
       "<div>\n",
       "<style scoped>\n",
       "    .dataframe tbody tr th:only-of-type {\n",
       "        vertical-align: middle;\n",
       "    }\n",
       "\n",
       "    .dataframe tbody tr th {\n",
       "        vertical-align: top;\n",
       "    }\n",
       "\n",
       "    .dataframe thead th {\n",
       "        text-align: right;\n",
       "    }\n",
       "</style>\n",
       "<table border=\"1\" class=\"dataframe\">\n",
       "  <thead>\n",
       "    <tr style=\"text-align: right;\">\n",
       "      <th></th>\n",
       "      <th>id</th>\n",
       "      <th>country_id</th>\n",
       "      <th>league_id</th>\n",
       "      <th>season</th>\n",
       "      <th>stage</th>\n",
       "      <th>date</th>\n",
       "      <th>match_api_id</th>\n",
       "      <th>team_api_id</th>\n",
       "      <th>outcome</th>\n",
       "    </tr>\n",
       "  </thead>\n",
       "  <tbody>\n",
       "    <tr>\n",
       "      <th>3</th>\n",
       "      <td>4</td>\n",
       "      <td>1</td>\n",
       "      <td>1</td>\n",
       "      <td>2008/2009</td>\n",
       "      <td>1</td>\n",
       "      <td>2008-08-17</td>\n",
       "      <td>492476</td>\n",
       "      <td>9991</td>\n",
       "      <td>w</td>\n",
       "    </tr>\n",
       "  </tbody>\n",
       "</table>\n",
       "</div>"
      ],
      "text/plain": [
       "   id  country_id  league_id     season  stage       date  match_api_id  \\\n",
       "3   4           1          1  2008/2009      1 2008-08-17        492476   \n",
       "\n",
       "   team_api_id outcome  \n",
       "3         9991       w  "
      ]
     },
     "execution_count": 95,
     "metadata": {},
     "output_type": "execute_result"
    }
   ],
   "source": [
    "# display df_home_wins dataset.\n",
    "df_home_wins.head(1)"
   ]
  },
  {
   "cell_type": "code",
   "execution_count": 96,
   "metadata": {},
   "outputs": [
    {
     "data": {
      "text/html": [
       "<div>\n",
       "<style scoped>\n",
       "    .dataframe tbody tr th:only-of-type {\n",
       "        vertical-align: middle;\n",
       "    }\n",
       "\n",
       "    .dataframe tbody tr th {\n",
       "        vertical-align: top;\n",
       "    }\n",
       "\n",
       "    .dataframe thead th {\n",
       "        text-align: right;\n",
       "    }\n",
       "</style>\n",
       "<table border=\"1\" class=\"dataframe\">\n",
       "  <thead>\n",
       "    <tr style=\"text-align: right;\">\n",
       "      <th></th>\n",
       "      <th>id</th>\n",
       "      <th>country_id</th>\n",
       "      <th>league_id</th>\n",
       "      <th>season</th>\n",
       "      <th>stage</th>\n",
       "      <th>date</th>\n",
       "      <th>match_api_id</th>\n",
       "      <th>home_team_api_id</th>\n",
       "      <th>away_team_api_id</th>\n",
       "      <th>home_team_goal</th>\n",
       "      <th>away_team_goal</th>\n",
       "      <th>home_outcome</th>\n",
       "      <th>away_outcome</th>\n",
       "    </tr>\n",
       "  </thead>\n",
       "  <tbody>\n",
       "    <tr>\n",
       "      <th>2</th>\n",
       "      <td>3</td>\n",
       "      <td>1</td>\n",
       "      <td>1</td>\n",
       "      <td>2008/2009</td>\n",
       "      <td>1</td>\n",
       "      <td>2008-08-16</td>\n",
       "      <td>492475</td>\n",
       "      <td>9984</td>\n",
       "      <td>8635</td>\n",
       "      <td>0</td>\n",
       "      <td>3</td>\n",
       "      <td>l</td>\n",
       "      <td>w</td>\n",
       "    </tr>\n",
       "  </tbody>\n",
       "</table>\n",
       "</div>"
      ],
      "text/plain": [
       "   id  country_id  league_id     season  stage       date  match_api_id  \\\n",
       "2   3           1          1  2008/2009      1 2008-08-16        492475   \n",
       "\n",
       "   home_team_api_id  away_team_api_id  home_team_goal  away_team_goal  \\\n",
       "2              9984              8635               0               3   \n",
       "\n",
       "  home_outcome away_outcome  \n",
       "2            l            w  "
      ]
     },
     "execution_count": 96,
     "metadata": {},
     "output_type": "execute_result"
    }
   ],
   "source": [
    "# Copying all the rows from df_match dataset whose away_outcome is w (won) into df_away_wins dataset\n",
    "df_away_wins = df_match.query('away_outcome == \"w\"')\n",
    "df_away_wins.head(1)"
   ]
  },
  {
   "cell_type": "code",
   "execution_count": 97,
   "metadata": {},
   "outputs": [],
   "source": [
    "# Moving only selected columns into the dataset. Also renaming some columns in the dataset for uniformity\n",
    "df_away_wins = df_away_wins[['id','country_id','league_id','season','stage','date','match_api_id','away_team_api_id','away_outcome']]\n",
    "df_away_wins.rename(columns={'away_team_api_id':'team_api_id','away_outcome':'outcome'},inplace=True)"
   ]
  },
  {
   "cell_type": "code",
   "execution_count": 98,
   "metadata": {},
   "outputs": [
    {
     "data": {
      "text/html": [
       "<div>\n",
       "<style scoped>\n",
       "    .dataframe tbody tr th:only-of-type {\n",
       "        vertical-align: middle;\n",
       "    }\n",
       "\n",
       "    .dataframe tbody tr th {\n",
       "        vertical-align: top;\n",
       "    }\n",
       "\n",
       "    .dataframe thead th {\n",
       "        text-align: right;\n",
       "    }\n",
       "</style>\n",
       "<table border=\"1\" class=\"dataframe\">\n",
       "  <thead>\n",
       "    <tr style=\"text-align: right;\">\n",
       "      <th></th>\n",
       "      <th>id</th>\n",
       "      <th>country_id</th>\n",
       "      <th>league_id</th>\n",
       "      <th>season</th>\n",
       "      <th>stage</th>\n",
       "      <th>date</th>\n",
       "      <th>match_api_id</th>\n",
       "      <th>team_api_id</th>\n",
       "      <th>outcome</th>\n",
       "    </tr>\n",
       "  </thead>\n",
       "  <tbody>\n",
       "    <tr>\n",
       "      <th>2</th>\n",
       "      <td>3</td>\n",
       "      <td>1</td>\n",
       "      <td>1</td>\n",
       "      <td>2008/2009</td>\n",
       "      <td>1</td>\n",
       "      <td>2008-08-16</td>\n",
       "      <td>492475</td>\n",
       "      <td>8635</td>\n",
       "      <td>w</td>\n",
       "    </tr>\n",
       "  </tbody>\n",
       "</table>\n",
       "</div>"
      ],
      "text/plain": [
       "   id  country_id  league_id     season  stage       date  match_api_id  \\\n",
       "2   3           1          1  2008/2009      1 2008-08-16        492475   \n",
       "\n",
       "   team_api_id outcome  \n",
       "2         8635       w  "
      ]
     },
     "execution_count": 98,
     "metadata": {},
     "output_type": "execute_result"
    }
   ],
   "source": [
    "# display df_away_wins dataset.\n",
    "df_away_wins.head(1)"
   ]
  },
  {
   "cell_type": "code",
   "execution_count": 99,
   "metadata": {},
   "outputs": [
    {
     "data": {
      "text/html": [
       "<div>\n",
       "<style scoped>\n",
       "    .dataframe tbody tr th:only-of-type {\n",
       "        vertical-align: middle;\n",
       "    }\n",
       "\n",
       "    .dataframe tbody tr th {\n",
       "        vertical-align: top;\n",
       "    }\n",
       "\n",
       "    .dataframe thead th {\n",
       "        text-align: right;\n",
       "    }\n",
       "</style>\n",
       "<table border=\"1\" class=\"dataframe\">\n",
       "  <thead>\n",
       "    <tr style=\"text-align: right;\">\n",
       "      <th></th>\n",
       "      <th>id</th>\n",
       "      <th>country_id</th>\n",
       "      <th>league_id</th>\n",
       "      <th>season</th>\n",
       "      <th>stage</th>\n",
       "      <th>date</th>\n",
       "      <th>match_api_id</th>\n",
       "      <th>team_api_id</th>\n",
       "      <th>outcome</th>\n",
       "    </tr>\n",
       "  </thead>\n",
       "  <tbody>\n",
       "    <tr>\n",
       "      <th>3</th>\n",
       "      <td>4</td>\n",
       "      <td>1</td>\n",
       "      <td>1</td>\n",
       "      <td>2008/2009</td>\n",
       "      <td>1</td>\n",
       "      <td>2008-08-17</td>\n",
       "      <td>492476</td>\n",
       "      <td>9991</td>\n",
       "      <td>w</td>\n",
       "    </tr>\n",
       "    <tr>\n",
       "      <th>8</th>\n",
       "      <td>9</td>\n",
       "      <td>1</td>\n",
       "      <td>1</td>\n",
       "      <td>2008/2009</td>\n",
       "      <td>1</td>\n",
       "      <td>2008-08-16</td>\n",
       "      <td>492481</td>\n",
       "      <td>10001</td>\n",
       "      <td>w</td>\n",
       "    </tr>\n",
       "    <tr>\n",
       "      <th>9</th>\n",
       "      <td>10</td>\n",
       "      <td>1</td>\n",
       "      <td>1</td>\n",
       "      <td>2008/2009</td>\n",
       "      <td>10</td>\n",
       "      <td>2008-11-01</td>\n",
       "      <td>492564</td>\n",
       "      <td>8342</td>\n",
       "      <td>w</td>\n",
       "    </tr>\n",
       "    <tr>\n",
       "      <th>21</th>\n",
       "      <td>22</td>\n",
       "      <td>1</td>\n",
       "      <td>1</td>\n",
       "      <td>2008/2009</td>\n",
       "      <td>11</td>\n",
       "      <td>2008-11-07</td>\n",
       "      <td>492576</td>\n",
       "      <td>9984</td>\n",
       "      <td>w</td>\n",
       "    </tr>\n",
       "    <tr>\n",
       "      <th>25</th>\n",
       "      <td>26</td>\n",
       "      <td>1</td>\n",
       "      <td>1</td>\n",
       "      <td>2008/2009</td>\n",
       "      <td>11</td>\n",
       "      <td>2008-11-08</td>\n",
       "      <td>492580</td>\n",
       "      <td>10001</td>\n",
       "      <td>w</td>\n",
       "    </tr>\n",
       "  </tbody>\n",
       "</table>\n",
       "</div>"
      ],
      "text/plain": [
       "    id  country_id  league_id     season  stage       date  match_api_id  \\\n",
       "3    4           1          1  2008/2009      1 2008-08-17        492476   \n",
       "8    9           1          1  2008/2009      1 2008-08-16        492481   \n",
       "9   10           1          1  2008/2009     10 2008-11-01        492564   \n",
       "21  22           1          1  2008/2009     11 2008-11-07        492576   \n",
       "25  26           1          1  2008/2009     11 2008-11-08        492580   \n",
       "\n",
       "    team_api_id outcome  \n",
       "3          9991       w  \n",
       "8         10001       w  \n",
       "9          8342       w  \n",
       "21         9984       w  \n",
       "25        10001       w  "
      ]
     },
     "execution_count": 99,
     "metadata": {},
     "output_type": "execute_result"
    }
   ],
   "source": [
    "# merge the df_home_wins and df_away_wins dataset\n",
    "df_wins_combined = pd.concat([df_home_wins,df_away_wins])\n",
    "df_wins_combined.head()"
   ]
  },
  {
   "cell_type": "code",
   "execution_count": 100,
   "metadata": {},
   "outputs": [
    {
     "data": {
      "text/html": [
       "<div>\n",
       "<style scoped>\n",
       "    .dataframe tbody tr th:only-of-type {\n",
       "        vertical-align: middle;\n",
       "    }\n",
       "\n",
       "    .dataframe tbody tr th {\n",
       "        vertical-align: top;\n",
       "    }\n",
       "\n",
       "    .dataframe thead th {\n",
       "        text-align: right;\n",
       "    }\n",
       "</style>\n",
       "<table border=\"1\" class=\"dataframe\">\n",
       "  <thead>\n",
       "    <tr style=\"text-align: right;\">\n",
       "      <th></th>\n",
       "      <th>season</th>\n",
       "      <th>team_api_id</th>\n",
       "      <th>outcome</th>\n",
       "    </tr>\n",
       "  </thead>\n",
       "  <tbody>\n",
       "    <tr>\n",
       "      <th>0</th>\n",
       "      <td>2008/2009</td>\n",
       "      <td>1601</td>\n",
       "      <td>9</td>\n",
       "    </tr>\n",
       "    <tr>\n",
       "      <th>1</th>\n",
       "      <td>2008/2009</td>\n",
       "      <td>1957</td>\n",
       "      <td>9</td>\n",
       "    </tr>\n",
       "    <tr>\n",
       "      <th>2</th>\n",
       "      <td>2008/2009</td>\n",
       "      <td>2182</td>\n",
       "      <td>16</td>\n",
       "    </tr>\n",
       "    <tr>\n",
       "      <th>3</th>\n",
       "      <td>2008/2009</td>\n",
       "      <td>2183</td>\n",
       "      <td>15</td>\n",
       "    </tr>\n",
       "    <tr>\n",
       "      <th>4</th>\n",
       "      <td>2008/2009</td>\n",
       "      <td>2186</td>\n",
       "      <td>7</td>\n",
       "    </tr>\n",
       "  </tbody>\n",
       "</table>\n",
       "</div>"
      ],
      "text/plain": [
       "      season  team_api_id  outcome\n",
       "0  2008/2009         1601        9\n",
       "1  2008/2009         1957        9\n",
       "2  2008/2009         2182       16\n",
       "3  2008/2009         2183       15\n",
       "4  2008/2009         2186        7"
      ]
     },
     "execution_count": 100,
     "metadata": {},
     "output_type": "execute_result"
    }
   ],
   "source": [
    "# Using the df_wins_combined dataset groupby season and team_api_id and count the number of entries\n",
    "df_team_season_count = df_wins_combined.groupby(['season','team_api_id']).outcome.count().reset_index()\n",
    "df_team_season_count.head()"
   ]
  },
  {
   "cell_type": "code",
   "execution_count": 101,
   "metadata": {},
   "outputs": [
    {
     "data": {
      "text/html": [
       "<div>\n",
       "<style scoped>\n",
       "    .dataframe tbody tr th:only-of-type {\n",
       "        vertical-align: middle;\n",
       "    }\n",
       "\n",
       "    .dataframe tbody tr th {\n",
       "        vertical-align: top;\n",
       "    }\n",
       "\n",
       "    .dataframe thead th {\n",
       "        text-align: right;\n",
       "    }\n",
       "</style>\n",
       "<table border=\"1\" class=\"dataframe\">\n",
       "  <thead>\n",
       "    <tr style=\"text-align: right;\">\n",
       "      <th></th>\n",
       "      <th>team_api_id</th>\n",
       "      <th>max</th>\n",
       "      <th>min</th>\n",
       "    </tr>\n",
       "  </thead>\n",
       "  <tbody>\n",
       "    <tr>\n",
       "      <th>0</th>\n",
       "      <td>1601</td>\n",
       "      <td>16</td>\n",
       "      <td>8</td>\n",
       "    </tr>\n",
       "    <tr>\n",
       "      <th>1</th>\n",
       "      <td>1773</td>\n",
       "      <td>8</td>\n",
       "      <td>7</td>\n",
       "    </tr>\n",
       "    <tr>\n",
       "      <th>2</th>\n",
       "      <td>1957</td>\n",
       "      <td>14</td>\n",
       "      <td>8</td>\n",
       "    </tr>\n",
       "    <tr>\n",
       "      <th>3</th>\n",
       "      <td>2033</td>\n",
       "      <td>9</td>\n",
       "      <td>5</td>\n",
       "    </tr>\n",
       "    <tr>\n",
       "      <th>4</th>\n",
       "      <td>2182</td>\n",
       "      <td>19</td>\n",
       "      <td>13</td>\n",
       "    </tr>\n",
       "  </tbody>\n",
       "</table>\n",
       "</div>"
      ],
      "text/plain": [
       "   team_api_id  max  min\n",
       "0         1601   16    8\n",
       "1         1773    8    7\n",
       "2         1957   14    8\n",
       "3         2033    9    5\n",
       "4         2182   19   13"
      ]
     },
     "execution_count": 101,
     "metadata": {},
     "output_type": "execute_result"
    }
   ],
   "source": [
    "# Using the dataset grouped by season and team id (df_team_season_count), \n",
    "# further groupby team_api_id and fetch the max and min wins for each team across different season\n",
    "df_team_count = df_team_season_count.groupby(['team_api_id'])['outcome'].agg({'max','min'}).reset_index()\n",
    "df_team_count.head()"
   ]
  },
  {
   "cell_type": "code",
   "execution_count": 102,
   "metadata": {},
   "outputs": [
    {
     "data": {
      "text/html": [
       "<div>\n",
       "<style scoped>\n",
       "    .dataframe tbody tr th:only-of-type {\n",
       "        vertical-align: middle;\n",
       "    }\n",
       "\n",
       "    .dataframe tbody tr th {\n",
       "        vertical-align: top;\n",
       "    }\n",
       "\n",
       "    .dataframe thead th {\n",
       "        text-align: right;\n",
       "    }\n",
       "</style>\n",
       "<table border=\"1\" class=\"dataframe\">\n",
       "  <thead>\n",
       "    <tr style=\"text-align: right;\">\n",
       "      <th></th>\n",
       "      <th>team_api_id</th>\n",
       "      <th>max</th>\n",
       "      <th>min</th>\n",
       "      <th>diff</th>\n",
       "    </tr>\n",
       "  </thead>\n",
       "  <tbody>\n",
       "    <tr>\n",
       "      <th>0</th>\n",
       "      <td>1601</td>\n",
       "      <td>16</td>\n",
       "      <td>8</td>\n",
       "      <td>8</td>\n",
       "    </tr>\n",
       "    <tr>\n",
       "      <th>1</th>\n",
       "      <td>1773</td>\n",
       "      <td>8</td>\n",
       "      <td>7</td>\n",
       "      <td>1</td>\n",
       "    </tr>\n",
       "  </tbody>\n",
       "</table>\n",
       "</div>"
      ],
      "text/plain": [
       "   team_api_id  max  min  diff\n",
       "0         1601   16    8     8\n",
       "1         1773    8    7     1"
      ]
     },
     "execution_count": 102,
     "metadata": {},
     "output_type": "execute_result"
    }
   ],
   "source": [
    "# Add a column called diff by subtracting min from max\n",
    "df_team_count['diff'] = df_team_count['max'] - df_team_count['min']\n",
    "df_team_count.head(2)"
   ]
  },
  {
   "cell_type": "code",
   "execution_count": 103,
   "metadata": {},
   "outputs": [],
   "source": [
    "# Merging the df_team_count dataset with the df_team dataset.\n",
    "df_team_match_combined = df_team_count.merge(df_team, left_on='team_api_id',right_on='team_api_id',how='inner')"
   ]
  },
  {
   "cell_type": "code",
   "execution_count": 104,
   "metadata": {},
   "outputs": [
    {
     "data": {
      "text/html": [
       "<div>\n",
       "<style scoped>\n",
       "    .dataframe tbody tr th:only-of-type {\n",
       "        vertical-align: middle;\n",
       "    }\n",
       "\n",
       "    .dataframe tbody tr th {\n",
       "        vertical-align: top;\n",
       "    }\n",
       "\n",
       "    .dataframe thead th {\n",
       "        text-align: right;\n",
       "    }\n",
       "</style>\n",
       "<table border=\"1\" class=\"dataframe\">\n",
       "  <thead>\n",
       "    <tr style=\"text-align: right;\">\n",
       "      <th></th>\n",
       "      <th>team_api_id</th>\n",
       "      <th>max</th>\n",
       "      <th>min</th>\n",
       "      <th>diff</th>\n",
       "      <th>id</th>\n",
       "      <th>team_long_name</th>\n",
       "      <th>team_short_name</th>\n",
       "    </tr>\n",
       "  </thead>\n",
       "  <tbody>\n",
       "    <tr>\n",
       "      <th>0</th>\n",
       "      <td>1601</td>\n",
       "      <td>16</td>\n",
       "      <td>8</td>\n",
       "      <td>8</td>\n",
       "      <td>31446</td>\n",
       "      <td>Ruch Chorzów</td>\n",
       "      <td>CHO</td>\n",
       "    </tr>\n",
       "  </tbody>\n",
       "</table>\n",
       "</div>"
      ],
      "text/plain": [
       "   team_api_id  max  min  diff     id team_long_name team_short_name\n",
       "0         1601   16    8     8  31446   Ruch Chorzów             CHO"
      ]
     },
     "execution_count": 104,
     "metadata": {},
     "output_type": "execute_result"
    }
   ],
   "source": [
    "# display the combined dataset\n",
    "df_team_match_combined.head(1)"
   ]
  },
  {
   "cell_type": "code",
   "execution_count": 105,
   "metadata": {},
   "outputs": [
    {
     "data": {
      "text/html": [
       "<div>\n",
       "<style scoped>\n",
       "    .dataframe tbody tr th:only-of-type {\n",
       "        vertical-align: middle;\n",
       "    }\n",
       "\n",
       "    .dataframe tbody tr th {\n",
       "        vertical-align: top;\n",
       "    }\n",
       "\n",
       "    .dataframe thead th {\n",
       "        text-align: right;\n",
       "    }\n",
       "</style>\n",
       "<table border=\"1\" class=\"dataframe\">\n",
       "  <thead>\n",
       "    <tr style=\"text-align: right;\">\n",
       "      <th></th>\n",
       "      <th>team_api_id</th>\n",
       "      <th>max</th>\n",
       "      <th>min</th>\n",
       "      <th>diff</th>\n",
       "      <th>id</th>\n",
       "      <th>team_long_name</th>\n",
       "      <th>team_short_name</th>\n",
       "    </tr>\n",
       "  </thead>\n",
       "  <tbody>\n",
       "    <tr>\n",
       "      <th>202</th>\n",
       "      <td>9847</td>\n",
       "      <td>30</td>\n",
       "      <td>12</td>\n",
       "      <td>18</td>\n",
       "      <td>9548</td>\n",
       "      <td>Paris Saint-Germain</td>\n",
       "      <td>PSG</td>\n",
       "    </tr>\n",
       "    <tr>\n",
       "      <th>223</th>\n",
       "      <td>9885</td>\n",
       "      <td>33</td>\n",
       "      <td>15</td>\n",
       "      <td>18</td>\n",
       "      <td>20522</td>\n",
       "      <td>Juventus</td>\n",
       "      <td>JUV</td>\n",
       "    </tr>\n",
       "  </tbody>\n",
       "</table>\n",
       "</div>"
      ],
      "text/plain": [
       "     team_api_id  max  min  diff     id       team_long_name team_short_name\n",
       "202         9847   30   12    18   9548  Paris Saint-Germain             PSG\n",
       "223         9885   33   15    18  20522             Juventus             JUV"
      ]
     },
     "execution_count": 105,
     "metadata": {},
     "output_type": "execute_result"
    }
   ],
   "source": [
    "# Find the teams which has changed its performace most over time\n",
    "max_diff = df_team_match_combined['diff'].max()\n",
    "df_max_diff = df_team_match_combined.query('diff == {}'.format(max_diff))\n",
    "df_max_diff.head()"
   ]
  },
  {
   "cell_type": "markdown",
   "metadata": {},
   "source": [
    "The following teams have most change in its performance:                                                                   \n",
    "a. Paris Saint-Germain (PSG) and                                                                                           \n",
    "b. Juventus (JUV)                                                                                                                                                                                                                "
   ]
  },
  {
   "cell_type": "code",
   "execution_count": 106,
   "metadata": {},
   "outputs": [
    {
     "data": {
      "text/html": [
       "<div>\n",
       "<style scoped>\n",
       "    .dataframe tbody tr th:only-of-type {\n",
       "        vertical-align: middle;\n",
       "    }\n",
       "\n",
       "    .dataframe tbody tr th {\n",
       "        vertical-align: top;\n",
       "    }\n",
       "\n",
       "    .dataframe thead th {\n",
       "        text-align: right;\n",
       "    }\n",
       "</style>\n",
       "<table border=\"1\" class=\"dataframe\">\n",
       "  <thead>\n",
       "    <tr style=\"text-align: right;\">\n",
       "      <th></th>\n",
       "      <th>team_api_id</th>\n",
       "      <th>max</th>\n",
       "      <th>min</th>\n",
       "      <th>diff</th>\n",
       "      <th>id</th>\n",
       "      <th>team_long_name</th>\n",
       "      <th>team_short_name</th>\n",
       "    </tr>\n",
       "  </thead>\n",
       "  <tbody>\n",
       "    <tr>\n",
       "      <th>7</th>\n",
       "      <td>4049</td>\n",
       "      <td>7</td>\n",
       "      <td>7</td>\n",
       "      <td>0</td>\n",
       "      <td>15</td>\n",
       "      <td>Tubize</td>\n",
       "      <td>TUB</td>\n",
       "    </tr>\n",
       "    <tr>\n",
       "      <th>8</th>\n",
       "      <td>4064</td>\n",
       "      <td>5</td>\n",
       "      <td>5</td>\n",
       "      <td>0</td>\n",
       "      <td>36723</td>\n",
       "      <td>Feirense</td>\n",
       "      <td>FEI</td>\n",
       "    </tr>\n",
       "    <tr>\n",
       "      <th>10</th>\n",
       "      <td>4170</td>\n",
       "      <td>7</td>\n",
       "      <td>7</td>\n",
       "      <td>0</td>\n",
       "      <td>10312</td>\n",
       "      <td>US Boulogne Cote D'Opale</td>\n",
       "      <td>BOU</td>\n",
       "    </tr>\n",
       "    <tr>\n",
       "      <th>11</th>\n",
       "      <td>6269</td>\n",
       "      <td>6</td>\n",
       "      <td>6</td>\n",
       "      <td>0</td>\n",
       "      <td>22805</td>\n",
       "      <td>Novara</td>\n",
       "      <td>NOV</td>\n",
       "    </tr>\n",
       "    <tr>\n",
       "      <th>12</th>\n",
       "      <td>6351</td>\n",
       "      <td>5</td>\n",
       "      <td>5</td>\n",
       "      <td>0</td>\n",
       "      <td>1042</td>\n",
       "      <td>KAS Eupen</td>\n",
       "      <td>EUP</td>\n",
       "    </tr>\n",
       "  </tbody>\n",
       "</table>\n",
       "</div>"
      ],
      "text/plain": [
       "    team_api_id  max  min  diff     id            team_long_name  \\\n",
       "7          4049    7    7     0     15                    Tubize   \n",
       "8          4064    5    5     0  36723                  Feirense   \n",
       "10         4170    7    7     0  10312  US Boulogne Cote D'Opale   \n",
       "11         6269    6    6     0  22805                    Novara   \n",
       "12         6351    5    5     0   1042                 KAS Eupen   \n",
       "\n",
       "   team_short_name  \n",
       "7              TUB  \n",
       "8              FEI  \n",
       "10             BOU  \n",
       "11             NOV  \n",
       "12             EUP  "
      ]
     },
     "execution_count": 106,
     "metadata": {},
     "output_type": "execute_result"
    }
   ],
   "source": [
    "# Find the teams which has changed its performace least over time\n",
    "min_diff = df_team_match_combined['diff'].min()\n",
    "df_min_diff = df_team_match_combined.query('diff == {}'.format(min_diff))\n",
    "df_min_diff.head()"
   ]
  },
  {
   "cell_type": "markdown",
   "metadata": {},
   "source": [
    "The following teams have least change in its performance:                                                                   \n",
    "a. Tubize (TUB),                                                                                                           \n",
    "b. Feirense (FEI),                                                                                                         \n",
    "c. US Boulogne Cote D'Opale(BOU),                                                                                          \n",
    "d. Novara (NOV) and                                                                                                        \n",
    "e. KAS Eupen (EUP)                                                                                                         "
   ]
  },
  {
   "cell_type": "markdown",
   "metadata": {},
   "source": [
    "### Research Question 3 : Which players has the most number of penalties?"
   ]
  },
  {
   "cell_type": "code",
   "execution_count": 107,
   "metadata": {},
   "outputs": [
    {
     "data": {
      "text/html": [
       "<div>\n",
       "<style scoped>\n",
       "    .dataframe tbody tr th:only-of-type {\n",
       "        vertical-align: middle;\n",
       "    }\n",
       "\n",
       "    .dataframe tbody tr th {\n",
       "        vertical-align: top;\n",
       "    }\n",
       "\n",
       "    .dataframe thead th {\n",
       "        text-align: right;\n",
       "    }\n",
       "</style>\n",
       "<table border=\"1\" class=\"dataframe\">\n",
       "  <thead>\n",
       "    <tr style=\"text-align: right;\">\n",
       "      <th></th>\n",
       "      <th>id</th>\n",
       "      <th>player_fifa_api_id</th>\n",
       "      <th>player_api_id</th>\n",
       "      <th>date</th>\n",
       "      <th>overall_rating</th>\n",
       "      <th>potential</th>\n",
       "      <th>preferred_foot</th>\n",
       "      <th>penalties</th>\n",
       "    </tr>\n",
       "  </thead>\n",
       "  <tbody>\n",
       "    <tr>\n",
       "      <th>0</th>\n",
       "      <td>1</td>\n",
       "      <td>218353</td>\n",
       "      <td>505942</td>\n",
       "      <td>2016-02-18</td>\n",
       "      <td>67.0</td>\n",
       "      <td>71.0</td>\n",
       "      <td>right</td>\n",
       "      <td>48</td>\n",
       "    </tr>\n",
       "    <tr>\n",
       "      <th>1</th>\n",
       "      <td>2</td>\n",
       "      <td>218353</td>\n",
       "      <td>505942</td>\n",
       "      <td>2015-11-19</td>\n",
       "      <td>67.0</td>\n",
       "      <td>71.0</td>\n",
       "      <td>right</td>\n",
       "      <td>48</td>\n",
       "    </tr>\n",
       "    <tr>\n",
       "      <th>2</th>\n",
       "      <td>3</td>\n",
       "      <td>218353</td>\n",
       "      <td>505942</td>\n",
       "      <td>2015-09-21</td>\n",
       "      <td>62.0</td>\n",
       "      <td>66.0</td>\n",
       "      <td>right</td>\n",
       "      <td>48</td>\n",
       "    </tr>\n",
       "    <tr>\n",
       "      <th>3</th>\n",
       "      <td>4</td>\n",
       "      <td>218353</td>\n",
       "      <td>505942</td>\n",
       "      <td>2015-03-20</td>\n",
       "      <td>61.0</td>\n",
       "      <td>65.0</td>\n",
       "      <td>right</td>\n",
       "      <td>47</td>\n",
       "    </tr>\n",
       "    <tr>\n",
       "      <th>4</th>\n",
       "      <td>5</td>\n",
       "      <td>218353</td>\n",
       "      <td>505942</td>\n",
       "      <td>2007-02-22</td>\n",
       "      <td>61.0</td>\n",
       "      <td>65.0</td>\n",
       "      <td>right</td>\n",
       "      <td>47</td>\n",
       "    </tr>\n",
       "  </tbody>\n",
       "</table>\n",
       "</div>"
      ],
      "text/plain": [
       "   id  player_fifa_api_id  player_api_id       date  overall_rating  \\\n",
       "0   1              218353         505942 2016-02-18            67.0   \n",
       "1   2              218353         505942 2015-11-19            67.0   \n",
       "2   3              218353         505942 2015-09-21            62.0   \n",
       "3   4              218353         505942 2015-03-20            61.0   \n",
       "4   5              218353         505942 2007-02-22            61.0   \n",
       "\n",
       "   potential preferred_foot  penalties  \n",
       "0       71.0          right         48  \n",
       "1       71.0          right         48  \n",
       "2       66.0          right         48  \n",
       "3       65.0          right         47  \n",
       "4       65.0          right         47  "
      ]
     },
     "execution_count": 107,
     "metadata": {},
     "output_type": "execute_result"
    }
   ],
   "source": [
    "# Dispaly a few records\n",
    "df_player_att.head()"
   ]
  },
  {
   "cell_type": "code",
   "execution_count": 108,
   "metadata": {},
   "outputs": [
    {
     "data": {
      "text/html": [
       "<div>\n",
       "<style scoped>\n",
       "    .dataframe tbody tr th:only-of-type {\n",
       "        vertical-align: middle;\n",
       "    }\n",
       "\n",
       "    .dataframe tbody tr th {\n",
       "        vertical-align: top;\n",
       "    }\n",
       "\n",
       "    .dataframe thead th {\n",
       "        text-align: right;\n",
       "    }\n",
       "</style>\n",
       "<table border=\"1\" class=\"dataframe\">\n",
       "  <thead>\n",
       "    <tr style=\"text-align: right;\">\n",
       "      <th></th>\n",
       "      <th>player_api_id</th>\n",
       "      <th>penalties</th>\n",
       "    </tr>\n",
       "  </thead>\n",
       "  <tbody>\n",
       "    <tr>\n",
       "      <th>0</th>\n",
       "      <td>2625</td>\n",
       "      <td>867</td>\n",
       "    </tr>\n",
       "  </tbody>\n",
       "</table>\n",
       "</div>"
      ],
      "text/plain": [
       "   player_api_id  penalties\n",
       "0           2625        867"
      ]
     },
     "execution_count": 108,
     "metadata": {},
     "output_type": "execute_result"
    }
   ],
   "source": [
    "# groupby player_api_id and sum the number of penalties per player\n",
    "df_penalties = df_player_att.groupby(['player_api_id'])['penalties'].sum().reset_index()\n",
    "df_penalties.head(1)"
   ]
  },
  {
   "cell_type": "code",
   "execution_count": 109,
   "metadata": {},
   "outputs": [
    {
     "data": {
      "text/html": [
       "<div>\n",
       "<style scoped>\n",
       "    .dataframe tbody tr th:only-of-type {\n",
       "        vertical-align: middle;\n",
       "    }\n",
       "\n",
       "    .dataframe tbody tr th {\n",
       "        vertical-align: top;\n",
       "    }\n",
       "\n",
       "    .dataframe thead th {\n",
       "        text-align: right;\n",
       "    }\n",
       "</style>\n",
       "<table border=\"1\" class=\"dataframe\">\n",
       "  <thead>\n",
       "    <tr style=\"text-align: right;\">\n",
       "      <th></th>\n",
       "      <th>player_api_id</th>\n",
       "      <th>penalties</th>\n",
       "      <th>id</th>\n",
       "      <th>player_name</th>\n",
       "      <th>player_fifa_api_id</th>\n",
       "      <th>birthday</th>\n",
       "      <th>height</th>\n",
       "      <th>weight</th>\n",
       "    </tr>\n",
       "  </thead>\n",
       "  <tbody>\n",
       "    <tr>\n",
       "      <th>0</th>\n",
       "      <td>2625</td>\n",
       "      <td>867</td>\n",
       "      <td>8372</td>\n",
       "      <td>Patryk Rachwal,18</td>\n",
       "      <td>148544</td>\n",
       "      <td>1981-01-27 00:00:00</td>\n",
       "      <td>175.26</td>\n",
       "      <td>154</td>\n",
       "    </tr>\n",
       "  </tbody>\n",
       "</table>\n",
       "</div>"
      ],
      "text/plain": [
       "   player_api_id  penalties    id        player_name  player_fifa_api_id  \\\n",
       "0           2625        867  8372  Patryk Rachwal,18              148544   \n",
       "\n",
       "              birthday  height  weight  \n",
       "0  1981-01-27 00:00:00  175.26     154  "
      ]
     },
     "execution_count": 109,
     "metadata": {},
     "output_type": "execute_result"
    }
   ],
   "source": [
    "#To get the player name, merger the df_penalties dataset with the df_player dataset.\n",
    "df_penalties_cmb = df_penalties.merge(df_player, left_on='player_api_id', right_on='player_api_id',how='inner')\n",
    "df_penalties_cmb.head(1)"
   ]
  },
  {
   "cell_type": "code",
   "execution_count": 113,
   "metadata": {},
   "outputs": [
    {
     "data": {
      "text/html": [
       "<div>\n",
       "<style scoped>\n",
       "    .dataframe tbody tr th:only-of-type {\n",
       "        vertical-align: middle;\n",
       "    }\n",
       "\n",
       "    .dataframe tbody tr th {\n",
       "        vertical-align: top;\n",
       "    }\n",
       "\n",
       "    .dataframe thead th {\n",
       "        text-align: right;\n",
       "    }\n",
       "</style>\n",
       "<table border=\"1\" class=\"dataframe\">\n",
       "  <thead>\n",
       "    <tr style=\"text-align: right;\">\n",
       "      <th></th>\n",
       "      <th>player_api_id</th>\n",
       "      <th>penalties</th>\n",
       "      <th>id</th>\n",
       "      <th>player_name</th>\n",
       "      <th>player_fifa_api_id</th>\n",
       "      <th>birthday</th>\n",
       "      <th>height</th>\n",
       "      <th>weight</th>\n",
       "    </tr>\n",
       "  </thead>\n",
       "  <tbody>\n",
       "    <tr>\n",
       "      <th>4087</th>\n",
       "      <td>41269</td>\n",
       "      <td>4314</td>\n",
       "      <td>396</td>\n",
       "      <td>Alessio Cerci</td>\n",
       "      <td>178393</td>\n",
       "      <td>1987-07-23 00:00:00</td>\n",
       "      <td>180.34</td>\n",
       "      <td>172</td>\n",
       "    </tr>\n",
       "  </tbody>\n",
       "</table>\n",
       "</div>"
      ],
      "text/plain": [
       "      player_api_id  penalties   id    player_name  player_fifa_api_id  \\\n",
       "4087          41269       4314  396  Alessio Cerci              178393   \n",
       "\n",
       "                 birthday  height  weight  \n",
       "4087  1987-07-23 00:00:00  180.34     172  "
      ]
     },
     "execution_count": 113,
     "metadata": {},
     "output_type": "execute_result"
    }
   ],
   "source": [
    "# Sort by penalties in desc order because we only need 10 players with top 10 most penalties\n",
    "df_penalties_player = df_penalties_cmb.sort_values(by='penalties', ascending=False).head(10)\n",
    "df_penalties_player.head(1)"
   ]
  },
  {
   "cell_type": "code",
   "execution_count": 114,
   "metadata": {},
   "outputs": [
    {
     "data": {
      "image/png": "[encoded data removed]",
      "text/plain": [
       "<matplotlib.figure.Figure at 0x7f3e292ef160>"
      ]
     },
     "metadata": {
      "needs_background": "light"
     },
     "output_type": "display_data"
    }
   ],
   "source": [
    "#create a bar graph showing the top 10 players with most number of penalties\n",
    "fig, ax = plt.subplots(figsize = (8,6))\n",
    "colors = ['gold','lightskyblue','lightgrey','red','lightgreen','yellow','lightblue','purple','brown','teal']\n",
    "plt.bar(df_penalties_player['player_name'], df_penalties_player['penalties'],color=colors);\n",
    "plt.title(\"Top 10 players with most number of penalties\", fontsize=18)\n",
    "plt.xlabel(\"Player Names\", fontsize=14)\n",
    "plt.ylabel(\"Penalties\", fontsize=14)\n",
    "plt.xticks(rotation=90)\n",
    "plt.show();"
   ]
  },
  {
   "cell_type": "markdown",
   "metadata": {},
   "source": [
    "The following players have the most number of penalties:\n",
    "1.  Alessio Cerci (4314)\n",
    "2.  Mario Balotelli (4120)\n",
    "3.  Claudio Marchisio (3984)\n",
    "4.  Michael Bradley (3813)\n",
    "5.  Zdravko Kuzmanovic (3799)\n",
    "6.  Andrea Pirlo (3791)\n",
    "7.  Antonio Di Natale (3767)\n",
    "8.  Thierry Henry (3712)\n",
    "9.  Adrien Silva (3682)\n",
    "10. Adel Taarabt (3650)"
   ]
  },
  {
   "cell_type": "markdown",
   "metadata": {},
   "source": [
    "<a id='conclusions'></a>\n",
    "## Conclusions\n",
    "\n",
    "> Q1: a. Does home teams have an advantage over away teams?            \n",
    ">> 1. Playing at home increases the chances of a team to win a match. 46% of home matches are won as compared to 29% of away matches.                                                                                                               \n",
    ">> 2. Win or lose, home teams score more goals than away teams on an average.                                               \n",
    ">> 3. More teams are likely to score higher number of goals on an average while playing at home location when compared to away location. 96% of teams out of 299 teams have scored higher at home location in comparison to their away scores. Only about 3% of teams have scored higher at an away location than at home location. \n",
    "\n",
    "> Q1: b. And which teams have scored max/min home and away goals?\n",
    ">> 1. Real Madrid CF (REA) has scored max number of home goals whereas FC Barcelona (BAR) has scored max number of away goals.                                                                                                                     \n",
    ">> 2. SpVgg Greuther Fürth (GRF) has scored min number of home goals whereas FC Metz (MET) has scored min number of away goals.\n",
    "\n",
    "> Q2: Which teams have changed its performance most over time and which teams have changed its performance least over time? \n",
    ">> 1. The following teams have most change in its performance:                                                             \n",
    ">>>a. Paris Saint-Germain (PSG) and                                                                                         \n",
    ">>>b. Juventus (JUV)                                                                                                       \n",
    ">>2. The following teams have least change in its performance:                                                             \n",
    ">>>a. Tubize (TUB),                                                                                                         \n",
    ">>>b. Feirense (FEI),                                                                                                       \n",
    ">>>c. US Boulogne Cote D'Opale(BOU),                                                                                       \n",
    ">>>d. Novara (NOV) and                                                                                                     \n",
    ">>>e. KAS Eupen (EUP)                                                                                                       \n",
    "\n",
    "> Q3: Which players has the most number of penalties? \n",
    ">>The following players have the most number of penalties:                                                             \n",
    ">>>1.  Alessio Cerci (4314)\n",
    ">>>2.  Mario Balotelli (4120)\n",
    ">>>3.  Claudio Marchisio (3984)\n",
    ">>>4.  Michael Bradley (3813)\n",
    ">>>5.  Zdravko Kuzmanovic (3799)\n",
    ">>>6.  Andrea Pirlo (3791)\n",
    ">>>7.  Antonio Di Natale (3767)\n",
    ">>>8.  Thierry Henry (3712)\n",
    ">>>9.  Adrien Silva (3682)\n",
    ">>>10. Adel Taarabt (3650)\n",
    "\n",
    "\n",
    "##### Limitations\n",
    ">> I have not used statistics for any data analysis performed here.                                                         \n",
    ">> The Kaggle dataset may not be accurate. We may have more home matches that were won than away matches in the dataset skewing our results one way.                                                                                               \n",
    ">> The max/min number of avg goals scored by teams may not be accurate. The max number of goals were calculated using mean. The mean can be effected by presence of outliers in dataset (some teams may have scored exceptionally high goals in some matches).                                                                                                                  \n",
    ">> The number of penalties per player may not be accurate. We may have more data for some players when compared to the others in the kaggle dataset. The most penlities scored is based on the sum of penalties for each player and not mean.     \n",
    "\n",
    "##### References\n",
    "<ul>\n",
    "<li><a href=\"https://www.tutorialspoint.com/python_pandas/python_pandas_sorting.htm\">Python Panda - Sorting</a></li>\n",
    "<li><a href=\"https://datatofish.com/bar-chart-python-matplotlib/\">How to create bar charts</a></li>\n",
    "<li><a href=\"https://365datascience.com/bar-chart-python-matplotlib/\">Bar chart in Matplotlib - Python</a></li>\n",
    "<li><a href=\"https://www.geeksforgeeks.org/convert-floats-to-integers-in-a-pandas-dataframe/\">Convert in Panda</a></li>\n",
    "<li><a href=\"https://www.opentechguides.com/how-to/article/dataanalytics/179/jupyter-notebook-pandas.html\">Data Visualization</a></li>\n",
    "<li><a href=\"https://stackoverflow.com/questions/11285613/selecting-multiple-columns-in-a-pandas-dataframe\">Select multiple columns in dataframe</a></li>\n",
    "<li><a href=\"https://www.geeksforgeeks.org/how-to-convert-index-to-column-in-pandas-dataframe/\">Index to column</a></li>\n",
    "<li><a href=\"https://stackoverflow.com/questions/6170246/how-do-i-use-matplotlib-autopct\">Matplotlib Autopct</a></li>\n",
    "<li><a href=\"https://matplotlib.org/3.1.1/gallery/pie_and_polar_charts/pie_features.html\">Basic Pie Chart</a></li>\n",
    "<li><a href=\"https://stackoverflow.com/questions/61634759/python-futurewarning-indexing-with-multiple-keys-implicitly-converted-to-a-tup?noredirect=1&lq=1\">Indexing with multiple key error</a></li>\n",
    "<li><a href=\"https://stackoverflow.com/questions/39922986/pandas-group-by-and-sum\">Gorupby and sum</a></li>\n",
    "<li><a href=\"https://pythonspot.com/sqlite-database-with-pandas/\">Sqlite database with pandas</a></li>\n",
    "</ul>\n",
    "\n",
    "## Submitting your Project \n"
   ]
  },
  {
   "cell_type": "code",
   "execution_count": 115,
   "metadata": {},
   "outputs": [
    {
     "data": {
      "text/plain": [
       "0"
      ]
     },
     "execution_count": 115,
     "metadata": {},
     "output_type": "execute_result"
    }
   ],
   "source": [
    "from subprocess import call\n",
    "call(['python', '-m', 'nbconvert', 'Investigate_a_Dataset.ipynb'])"
   ]
  }
 ],
 "metadata": {
  "kernelspec": {
   "display_name": "Python 3",
   "language": "python",
   "name": "python3"
  },
  "language_info": {
   "codemirror_mode": {
    "name": "ipython",
    "version": 3
   },
   "file_extension": ".py",
   "mimetype": "text/x-python",
   "name": "python",
   "nbconvert_exporter": "python",
   "pygments_lexer": "ipython3",
   "version": "3.6.3"
  }
 },
 "nbformat": 4,
 "nbformat_minor": 2
}
